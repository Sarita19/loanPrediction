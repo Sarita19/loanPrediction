{
 "cells": [
  {
   "cell_type": "markdown",
   "metadata": {},
   "source": [
    "The goal of this project is to find a better approach to identify credit defaulters.This is a classification problem where we have to predict whether a loan will be paid by the customer or no \n",
    "\n",
    "Below steps had been taken in order to process and analyse the data of the loan dataset.\n",
    "\n",
    "<ul>\n",
    "<li><a href=\"#intro\"> 1.Reading the Dataset</a></li>\n",
    "<li><a href=\"#cleaning\">2.Data Cleaning</a></li>\n",
    "<li><a href=\"#assessing\">3.Exploratory Data Analysis</a></li>\n",
    "<li><a href=\"#predictive\">4. Building Predictive Models</a></li>\n",
    "<li><a href=\"#conclusion\">5. Conclusions</a></li>    \n",
    "</ul>\n",
    "\n",
    "\n"
   ]
  },
  {
   "cell_type": "markdown",
   "metadata": {},
   "source": [
    "## Importing Data"
   ]
  },
  {
   "cell_type": "code",
   "execution_count": 66,
   "metadata": {},
   "outputs": [],
   "source": [
    "import pandas as pd\n",
    "import numpy as np\n",
    "import matplotlib.pyplot as plt\n",
    "from sklearn.model_selection import train_test_split\n",
    "from sklearn.model_selection import cross_val_score\n",
    "from sklearn.model_selection import GridSearchCV\n",
    "from sklearn import metrics\n",
    "from sklearn.preprocessing import StandardScaler\n",
    "from sklearn.metrics import confusion_matrix\n",
    "from sklearn.metrics import roc_auc_score\n",
    "from sklearn.metrics import roc_curve\n",
    "from scipy.stats import boxcox\n",
    "import seaborn as sns\n",
    "import os\n",
    "import math \n",
    "\n",
    "from sklearn.ensemble import RandomForestClassifier\n",
    "from sklearn.tree import DecisionTreeClassifier\n",
    "from sklearn.linear_model import LogisticRegression\n",
    "from sklearn.naive_bayes import GaussianNB\n",
    "from sklearn.model_selection import train_test_split\n",
    "from sklearn.metrics import accuracy_score, precision_score, recall_score, confusion_matrix, precision_recall_curve,classification_report\n",
    "from sklearn import preprocessing,metrics,svm,linear_model"
   ]
  },
  {
   "cell_type": "markdown",
   "metadata": {},
   "source": [
    "<a id='intro'></a>\n",
    "## 1. Reading the dataset\n",
    "\n",
    "There are 3 datasets present. They need to be joined by a common attribute.\n",
    "\n",
    "-\tBorrower Information: Information on the clients’ customers\n",
    "-\tLoan Classification Information: Information on the loan itself\n",
    "-\tLoan Payment Information: Information on the payments on the loans.\n",
    "\n",
    "Between Borrower and Loan Datasets, the common attribute is \"member_id\" whereas between Loan and Payment Datasets, the common attribute is \"id\""
   ]
  },
  {
   "cell_type": "code",
   "execution_count": 67,
   "metadata": {},
   "outputs": [
    {
     "data": {
      "text/html": [
       "<div>\n",
       "<style scoped>\n",
       "    .dataframe tbody tr th:only-of-type {\n",
       "        vertical-align: middle;\n",
       "    }\n",
       "\n",
       "    .dataframe tbody tr th {\n",
       "        vertical-align: top;\n",
       "    }\n",
       "\n",
       "    .dataframe thead th {\n",
       "        text-align: right;\n",
       "    }\n",
       "</style>\n",
       "<table border=\"1\" class=\"dataframe\">\n",
       "  <thead>\n",
       "    <tr style=\"text-align: right;\">\n",
       "      <th></th>\n",
       "      <th>Unnamed: 0</th>\n",
       "      <th>member_id</th>\n",
       "      <th>emp_title</th>\n",
       "      <th>emp_length</th>\n",
       "      <th>home_ownership</th>\n",
       "      <th>zip_code</th>\n",
       "      <th>addr_state</th>\n",
       "      <th>annual_inc</th>\n",
       "      <th>annual_inc_joint</th>\n",
       "      <th>open_acc</th>\n",
       "      <th>pub_rec</th>\n",
       "      <th>total_acc</th>\n",
       "      <th>delinq_2yrs</th>\n",
       "      <th>earliest_cr_line</th>\n",
       "    </tr>\n",
       "  </thead>\n",
       "  <tbody>\n",
       "    <tr>\n",
       "      <th>0</th>\n",
       "      <td>1</td>\n",
       "      <td>1296599</td>\n",
       "      <td>NaN</td>\n",
       "      <td>10+ years</td>\n",
       "      <td>RENT</td>\n",
       "      <td>860xx</td>\n",
       "      <td>AZ</td>\n",
       "      <td>24000.0</td>\n",
       "      <td>NaN</td>\n",
       "      <td>3.0</td>\n",
       "      <td>0.0</td>\n",
       "      <td>9.0</td>\n",
       "      <td>0.0</td>\n",
       "      <td>Jan-1985</td>\n",
       "    </tr>\n",
       "    <tr>\n",
       "      <th>1</th>\n",
       "      <td>2</td>\n",
       "      <td>1314167</td>\n",
       "      <td>Ryder</td>\n",
       "      <td>&lt; 1 year</td>\n",
       "      <td>RENT</td>\n",
       "      <td>309xx</td>\n",
       "      <td>GA</td>\n",
       "      <td>30000.0</td>\n",
       "      <td>NaN</td>\n",
       "      <td>3.0</td>\n",
       "      <td>0.0</td>\n",
       "      <td>4.0</td>\n",
       "      <td>0.0</td>\n",
       "      <td>Apr-1999</td>\n",
       "    </tr>\n",
       "    <tr>\n",
       "      <th>2</th>\n",
       "      <td>3</td>\n",
       "      <td>1313524</td>\n",
       "      <td>NaN</td>\n",
       "      <td>10+ years</td>\n",
       "      <td>RENT</td>\n",
       "      <td>606xx</td>\n",
       "      <td>IL</td>\n",
       "      <td>12252.0</td>\n",
       "      <td>NaN</td>\n",
       "      <td>2.0</td>\n",
       "      <td>0.0</td>\n",
       "      <td>10.0</td>\n",
       "      <td>0.0</td>\n",
       "      <td>Nov-2001</td>\n",
       "    </tr>\n",
       "  </tbody>\n",
       "</table>\n",
       "</div>"
      ],
      "text/plain": [
       "   Unnamed: 0  member_id emp_title emp_length home_ownership zip_code  \\\n",
       "0           1    1296599       NaN  10+ years           RENT    860xx   \n",
       "1           2    1314167     Ryder   < 1 year           RENT    309xx   \n",
       "2           3    1313524       NaN  10+ years           RENT    606xx   \n",
       "\n",
       "  addr_state  annual_inc  annual_inc_joint  open_acc  pub_rec  total_acc  \\\n",
       "0         AZ     24000.0               NaN       3.0      0.0        9.0   \n",
       "1         GA     30000.0               NaN       3.0      0.0        4.0   \n",
       "2         IL     12252.0               NaN       2.0      0.0       10.0   \n",
       "\n",
       "   delinq_2yrs earliest_cr_line  \n",
       "0          0.0         Jan-1985  \n",
       "1          0.0         Apr-1999  \n",
       "2          0.0         Nov-2001  "
      ]
     },
     "execution_count": 67,
     "metadata": {},
     "output_type": "execute_result"
    }
   ],
   "source": [
    "##Reading the dataset\n",
    "df_borrower = pd.read_csv('C:/Users/sarita.machado/OneDrive - Accenture/Sarita_BEL/myLearning/Projects/Assessment Test/OneDrive_2019-07-04/To be communicated to the candidate/Borrower Information.csv',low_memory=False)\n",
    "df_borrower.head(3)"
   ]
  },
  {
   "cell_type": "code",
   "execution_count": 68,
   "metadata": {},
   "outputs": [
    {
     "data": {
      "text/html": [
       "<div>\n",
       "<style scoped>\n",
       "    .dataframe tbody tr th:only-of-type {\n",
       "        vertical-align: middle;\n",
       "    }\n",
       "\n",
       "    .dataframe tbody tr th {\n",
       "        vertical-align: top;\n",
       "    }\n",
       "\n",
       "    .dataframe thead th {\n",
       "        text-align: right;\n",
       "    }\n",
       "</style>\n",
       "<table border=\"1\" class=\"dataframe\">\n",
       "  <thead>\n",
       "    <tr style=\"text-align: right;\">\n",
       "      <th></th>\n",
       "      <th>Unnamed: 0</th>\n",
       "      <th>id</th>\n",
       "      <th>member_id</th>\n",
       "      <th>term</th>\n",
       "      <th>grade</th>\n",
       "      <th>sub_grade</th>\n",
       "      <th>loan_status</th>\n",
       "      <th>pymnt_plan</th>\n",
       "      <th>purpose</th>\n",
       "      <th>application_type</th>\n",
       "      <th>issue_d</th>\n",
       "      <th>desc</th>\n",
       "      <th>title</th>\n",
       "      <th>loan_amnt</th>\n",
       "      <th>int_rate</th>\n",
       "      <th>funded_amnt</th>\n",
       "      <th>funded_amnt_inv</th>\n",
       "      <th>installment</th>\n",
       "    </tr>\n",
       "  </thead>\n",
       "  <tbody>\n",
       "    <tr>\n",
       "      <th>0</th>\n",
       "      <td>1</td>\n",
       "      <td>1077501</td>\n",
       "      <td>1296599</td>\n",
       "      <td>36 months</td>\n",
       "      <td>B</td>\n",
       "      <td>B2</td>\n",
       "      <td>Fully Paid</td>\n",
       "      <td>n</td>\n",
       "      <td>credit_card</td>\n",
       "      <td>INDIVIDUAL</td>\n",
       "      <td>Dec-2011</td>\n",
       "      <td>Borrower added on 12/22/11 &gt; I need to upgra...</td>\n",
       "      <td>Computer</td>\n",
       "      <td>5000</td>\n",
       "      <td>10.65</td>\n",
       "      <td>5000</td>\n",
       "      <td>4975.0</td>\n",
       "      <td>162.87</td>\n",
       "    </tr>\n",
       "    <tr>\n",
       "      <th>1</th>\n",
       "      <td>2</td>\n",
       "      <td>1077430</td>\n",
       "      <td>1314167</td>\n",
       "      <td>60 months</td>\n",
       "      <td>C</td>\n",
       "      <td>C4</td>\n",
       "      <td>Charged Off</td>\n",
       "      <td>n</td>\n",
       "      <td>car</td>\n",
       "      <td>INDIVIDUAL</td>\n",
       "      <td>Dec-2011</td>\n",
       "      <td>Borrower added on 12/22/11 &gt; I plan to use t...</td>\n",
       "      <td>bike</td>\n",
       "      <td>2500</td>\n",
       "      <td>15.27</td>\n",
       "      <td>2500</td>\n",
       "      <td>2500.0</td>\n",
       "      <td>59.83</td>\n",
       "    </tr>\n",
       "    <tr>\n",
       "      <th>2</th>\n",
       "      <td>3</td>\n",
       "      <td>1077175</td>\n",
       "      <td>1313524</td>\n",
       "      <td>36 months</td>\n",
       "      <td>C</td>\n",
       "      <td>C5</td>\n",
       "      <td>Fully Paid</td>\n",
       "      <td>n</td>\n",
       "      <td>small_business</td>\n",
       "      <td>INDIVIDUAL</td>\n",
       "      <td>Dec-2011</td>\n",
       "      <td>NaN</td>\n",
       "      <td>real estate business</td>\n",
       "      <td>2400</td>\n",
       "      <td>15.96</td>\n",
       "      <td>2400</td>\n",
       "      <td>2400.0</td>\n",
       "      <td>84.33</td>\n",
       "    </tr>\n",
       "  </tbody>\n",
       "</table>\n",
       "</div>"
      ],
      "text/plain": [
       "   Unnamed: 0       id  member_id        term grade sub_grade  loan_status  \\\n",
       "0           1  1077501    1296599   36 months     B        B2   Fully Paid   \n",
       "1           2  1077430    1314167   60 months     C        C4  Charged Off   \n",
       "2           3  1077175    1313524   36 months     C        C5   Fully Paid   \n",
       "\n",
       "  pymnt_plan         purpose application_type   issue_d  \\\n",
       "0          n     credit_card       INDIVIDUAL  Dec-2011   \n",
       "1          n             car       INDIVIDUAL  Dec-2011   \n",
       "2          n  small_business       INDIVIDUAL  Dec-2011   \n",
       "\n",
       "                                                desc                 title  \\\n",
       "0    Borrower added on 12/22/11 > I need to upgra...              Computer   \n",
       "1    Borrower added on 12/22/11 > I plan to use t...                  bike   \n",
       "2                                                NaN  real estate business   \n",
       "\n",
       "   loan_amnt  int_rate  funded_amnt  funded_amnt_inv  installment  \n",
       "0       5000     10.65         5000           4975.0       162.87  \n",
       "1       2500     15.27         2500           2500.0        59.83  \n",
       "2       2400     15.96         2400           2400.0        84.33  "
      ]
     },
     "execution_count": 68,
     "metadata": {},
     "output_type": "execute_result"
    }
   ],
   "source": [
    "df_loan = pd.read_csv('C:/Users/sarita.machado/OneDrive - Accenture/Sarita_BEL/myLearning/Projects/Assessment Test/OneDrive_2019-07-04/To be communicated to the candidate/Loan Classification Information.csv',low_memory=False)\n",
    "df_loan.head(3)"
   ]
  },
  {
   "cell_type": "code",
   "execution_count": 69,
   "metadata": {},
   "outputs": [
    {
     "data": {
      "text/html": [
       "<div>\n",
       "<style scoped>\n",
       "    .dataframe tbody tr th:only-of-type {\n",
       "        vertical-align: middle;\n",
       "    }\n",
       "\n",
       "    .dataframe tbody tr th {\n",
       "        vertical-align: top;\n",
       "    }\n",
       "\n",
       "    .dataframe thead th {\n",
       "        text-align: right;\n",
       "    }\n",
       "</style>\n",
       "<table border=\"1\" class=\"dataframe\">\n",
       "  <thead>\n",
       "    <tr style=\"text-align: right;\">\n",
       "      <th></th>\n",
       "      <th>Unnamed: 0</th>\n",
       "      <th>id</th>\n",
       "      <th>dti</th>\n",
       "      <th>inq_last_6mths</th>\n",
       "      <th>mths_since_last_delinq</th>\n",
       "      <th>mths_since_last_record</th>\n",
       "      <th>revol_bal</th>\n",
       "      <th>revol_util</th>\n",
       "      <th>out_prncp</th>\n",
       "      <th>out_prncp_inv</th>\n",
       "      <th>...</th>\n",
       "      <th>mths_since_rcnt_il</th>\n",
       "      <th>total_bal_il</th>\n",
       "      <th>il_util</th>\n",
       "      <th>open_rv_12m</th>\n",
       "      <th>open_rv_24m</th>\n",
       "      <th>max_bal_bc</th>\n",
       "      <th>all_util</th>\n",
       "      <th>inq_fi</th>\n",
       "      <th>total_cu_tl</th>\n",
       "      <th>inq_last_12m</th>\n",
       "    </tr>\n",
       "  </thead>\n",
       "  <tbody>\n",
       "    <tr>\n",
       "      <th>0</th>\n",
       "      <td>1</td>\n",
       "      <td>1077501</td>\n",
       "      <td>27.65</td>\n",
       "      <td>1.0</td>\n",
       "      <td>NaN</td>\n",
       "      <td>NaN</td>\n",
       "      <td>13648.0</td>\n",
       "      <td>83.7</td>\n",
       "      <td>0.0</td>\n",
       "      <td>0.0</td>\n",
       "      <td>...</td>\n",
       "      <td>NaN</td>\n",
       "      <td>NaN</td>\n",
       "      <td>NaN</td>\n",
       "      <td>NaN</td>\n",
       "      <td>NaN</td>\n",
       "      <td>NaN</td>\n",
       "      <td>NaN</td>\n",
       "      <td>NaN</td>\n",
       "      <td>NaN</td>\n",
       "      <td>NaN</td>\n",
       "    </tr>\n",
       "    <tr>\n",
       "      <th>1</th>\n",
       "      <td>2</td>\n",
       "      <td>1077430</td>\n",
       "      <td>1.00</td>\n",
       "      <td>5.0</td>\n",
       "      <td>NaN</td>\n",
       "      <td>NaN</td>\n",
       "      <td>1687.0</td>\n",
       "      <td>9.4</td>\n",
       "      <td>0.0</td>\n",
       "      <td>0.0</td>\n",
       "      <td>...</td>\n",
       "      <td>NaN</td>\n",
       "      <td>NaN</td>\n",
       "      <td>NaN</td>\n",
       "      <td>NaN</td>\n",
       "      <td>NaN</td>\n",
       "      <td>NaN</td>\n",
       "      <td>NaN</td>\n",
       "      <td>NaN</td>\n",
       "      <td>NaN</td>\n",
       "      <td>NaN</td>\n",
       "    </tr>\n",
       "    <tr>\n",
       "      <th>2</th>\n",
       "      <td>3</td>\n",
       "      <td>1077175</td>\n",
       "      <td>8.72</td>\n",
       "      <td>2.0</td>\n",
       "      <td>NaN</td>\n",
       "      <td>NaN</td>\n",
       "      <td>2956.0</td>\n",
       "      <td>98.5</td>\n",
       "      <td>0.0</td>\n",
       "      <td>0.0</td>\n",
       "      <td>...</td>\n",
       "      <td>NaN</td>\n",
       "      <td>NaN</td>\n",
       "      <td>NaN</td>\n",
       "      <td>NaN</td>\n",
       "      <td>NaN</td>\n",
       "      <td>NaN</td>\n",
       "      <td>NaN</td>\n",
       "      <td>NaN</td>\n",
       "      <td>NaN</td>\n",
       "      <td>NaN</td>\n",
       "    </tr>\n",
       "  </tbody>\n",
       "</table>\n",
       "<p>3 rows × 41 columns</p>\n",
       "</div>"
      ],
      "text/plain": [
       "   Unnamed: 0       id    dti  inq_last_6mths  mths_since_last_delinq  \\\n",
       "0           1  1077501  27.65             1.0                     NaN   \n",
       "1           2  1077430   1.00             5.0                     NaN   \n",
       "2           3  1077175   8.72             2.0                     NaN   \n",
       "\n",
       "   mths_since_last_record  revol_bal  revol_util  out_prncp  out_prncp_inv  \\\n",
       "0                     NaN    13648.0        83.7        0.0            0.0   \n",
       "1                     NaN     1687.0         9.4        0.0            0.0   \n",
       "2                     NaN     2956.0        98.5        0.0            0.0   \n",
       "\n",
       "      ...       mths_since_rcnt_il  total_bal_il  il_util  open_rv_12m  \\\n",
       "0     ...                      NaN           NaN      NaN          NaN   \n",
       "1     ...                      NaN           NaN      NaN          NaN   \n",
       "2     ...                      NaN           NaN      NaN          NaN   \n",
       "\n",
       "   open_rv_24m  max_bal_bc  all_util inq_fi  total_cu_tl inq_last_12m  \n",
       "0          NaN         NaN       NaN    NaN          NaN          NaN  \n",
       "1          NaN         NaN       NaN    NaN          NaN          NaN  \n",
       "2          NaN         NaN       NaN    NaN          NaN          NaN  \n",
       "\n",
       "[3 rows x 41 columns]"
      ]
     },
     "execution_count": 69,
     "metadata": {},
     "output_type": "execute_result"
    }
   ],
   "source": [
    "df_pay = pd.read_csv('C:/Users/sarita.machado/OneDrive - Accenture/Sarita_BEL/myLearning/Projects/Assessment Test/OneDrive_2019-07-04/To be communicated to the candidate/Loan Payment Information.csv')\n",
    "df_pay.head(3)"
   ]
  },
  {
   "cell_type": "code",
   "execution_count": 70,
   "metadata": {},
   "outputs": [],
   "source": [
    "# Joining Borrower and Loan Datasets on \"member_id\"\n",
    "df_inter=pd.merge(df_loan,df_borrower, on=\"member_id\")"
   ]
  },
  {
   "cell_type": "code",
   "execution_count": 71,
   "metadata": {},
   "outputs": [
    {
     "data": {
      "text/html": [
       "<div>\n",
       "<style scoped>\n",
       "    .dataframe tbody tr th:only-of-type {\n",
       "        vertical-align: middle;\n",
       "    }\n",
       "\n",
       "    .dataframe tbody tr th {\n",
       "        vertical-align: top;\n",
       "    }\n",
       "\n",
       "    .dataframe thead th {\n",
       "        text-align: right;\n",
       "    }\n",
       "</style>\n",
       "<table border=\"1\" class=\"dataframe\">\n",
       "  <thead>\n",
       "    <tr style=\"text-align: right;\">\n",
       "      <th></th>\n",
       "      <th>Unnamed: 0_x</th>\n",
       "      <th>id</th>\n",
       "      <th>member_id</th>\n",
       "      <th>term</th>\n",
       "      <th>grade</th>\n",
       "      <th>sub_grade</th>\n",
       "      <th>loan_status</th>\n",
       "      <th>pymnt_plan</th>\n",
       "      <th>purpose</th>\n",
       "      <th>application_type</th>\n",
       "      <th>...</th>\n",
       "      <th>home_ownership</th>\n",
       "      <th>zip_code</th>\n",
       "      <th>addr_state</th>\n",
       "      <th>annual_inc</th>\n",
       "      <th>annual_inc_joint</th>\n",
       "      <th>open_acc</th>\n",
       "      <th>pub_rec</th>\n",
       "      <th>total_acc</th>\n",
       "      <th>delinq_2yrs</th>\n",
       "      <th>earliest_cr_line</th>\n",
       "    </tr>\n",
       "  </thead>\n",
       "  <tbody>\n",
       "    <tr>\n",
       "      <th>0</th>\n",
       "      <td>1</td>\n",
       "      <td>1077501</td>\n",
       "      <td>1296599</td>\n",
       "      <td>36 months</td>\n",
       "      <td>B</td>\n",
       "      <td>B2</td>\n",
       "      <td>Fully Paid</td>\n",
       "      <td>n</td>\n",
       "      <td>credit_card</td>\n",
       "      <td>INDIVIDUAL</td>\n",
       "      <td>...</td>\n",
       "      <td>RENT</td>\n",
       "      <td>860xx</td>\n",
       "      <td>AZ</td>\n",
       "      <td>24000.0</td>\n",
       "      <td>NaN</td>\n",
       "      <td>3.0</td>\n",
       "      <td>0.0</td>\n",
       "      <td>9.0</td>\n",
       "      <td>0.0</td>\n",
       "      <td>Jan-1985</td>\n",
       "    </tr>\n",
       "    <tr>\n",
       "      <th>1</th>\n",
       "      <td>2</td>\n",
       "      <td>1077430</td>\n",
       "      <td>1314167</td>\n",
       "      <td>60 months</td>\n",
       "      <td>C</td>\n",
       "      <td>C4</td>\n",
       "      <td>Charged Off</td>\n",
       "      <td>n</td>\n",
       "      <td>car</td>\n",
       "      <td>INDIVIDUAL</td>\n",
       "      <td>...</td>\n",
       "      <td>RENT</td>\n",
       "      <td>309xx</td>\n",
       "      <td>GA</td>\n",
       "      <td>30000.0</td>\n",
       "      <td>NaN</td>\n",
       "      <td>3.0</td>\n",
       "      <td>0.0</td>\n",
       "      <td>4.0</td>\n",
       "      <td>0.0</td>\n",
       "      <td>Apr-1999</td>\n",
       "    </tr>\n",
       "    <tr>\n",
       "      <th>2</th>\n",
       "      <td>3</td>\n",
       "      <td>1077175</td>\n",
       "      <td>1313524</td>\n",
       "      <td>36 months</td>\n",
       "      <td>C</td>\n",
       "      <td>C5</td>\n",
       "      <td>Fully Paid</td>\n",
       "      <td>n</td>\n",
       "      <td>small_business</td>\n",
       "      <td>INDIVIDUAL</td>\n",
       "      <td>...</td>\n",
       "      <td>RENT</td>\n",
       "      <td>606xx</td>\n",
       "      <td>IL</td>\n",
       "      <td>12252.0</td>\n",
       "      <td>NaN</td>\n",
       "      <td>2.0</td>\n",
       "      <td>0.0</td>\n",
       "      <td>10.0</td>\n",
       "      <td>0.0</td>\n",
       "      <td>Nov-2001</td>\n",
       "    </tr>\n",
       "  </tbody>\n",
       "</table>\n",
       "<p>3 rows × 31 columns</p>\n",
       "</div>"
      ],
      "text/plain": [
       "   Unnamed: 0_x       id  member_id        term grade sub_grade  loan_status  \\\n",
       "0             1  1077501    1296599   36 months     B        B2   Fully Paid   \n",
       "1             2  1077430    1314167   60 months     C        C4  Charged Off   \n",
       "2             3  1077175    1313524   36 months     C        C5   Fully Paid   \n",
       "\n",
       "  pymnt_plan         purpose application_type       ...        home_ownership  \\\n",
       "0          n     credit_card       INDIVIDUAL       ...                  RENT   \n",
       "1          n             car       INDIVIDUAL       ...                  RENT   \n",
       "2          n  small_business       INDIVIDUAL       ...                  RENT   \n",
       "\n",
       "  zip_code addr_state  annual_inc  annual_inc_joint  open_acc  pub_rec  \\\n",
       "0    860xx         AZ     24000.0               NaN       3.0      0.0   \n",
       "1    309xx         GA     30000.0               NaN       3.0      0.0   \n",
       "2    606xx         IL     12252.0               NaN       2.0      0.0   \n",
       "\n",
       "   total_acc  delinq_2yrs earliest_cr_line  \n",
       "0        9.0          0.0         Jan-1985  \n",
       "1        4.0          0.0         Apr-1999  \n",
       "2       10.0          0.0         Nov-2001  \n",
       "\n",
       "[3 rows x 31 columns]"
      ]
     },
     "execution_count": 71,
     "metadata": {},
     "output_type": "execute_result"
    }
   ],
   "source": [
    "df_inter.head(3)"
   ]
  },
  {
   "cell_type": "code",
   "execution_count": 72,
   "metadata": {},
   "outputs": [],
   "source": [
    "# Joining Intermediate DataSet and Payment Datasets on \"id\"\n",
    "df=pd.merge(df_inter,df_pay, on=\"id\")"
   ]
  },
  {
   "cell_type": "code",
   "execution_count": 73,
   "metadata": {},
   "outputs": [
    {
     "data": {
      "text/html": [
       "<div>\n",
       "<style scoped>\n",
       "    .dataframe tbody tr th:only-of-type {\n",
       "        vertical-align: middle;\n",
       "    }\n",
       "\n",
       "    .dataframe tbody tr th {\n",
       "        vertical-align: top;\n",
       "    }\n",
       "\n",
       "    .dataframe thead th {\n",
       "        text-align: right;\n",
       "    }\n",
       "</style>\n",
       "<table border=\"1\" class=\"dataframe\">\n",
       "  <thead>\n",
       "    <tr style=\"text-align: right;\">\n",
       "      <th></th>\n",
       "      <th>Unnamed: 0</th>\n",
       "      <th>id</th>\n",
       "      <th>dti</th>\n",
       "      <th>inq_last_6mths</th>\n",
       "      <th>mths_since_last_delinq</th>\n",
       "      <th>mths_since_last_record</th>\n",
       "      <th>revol_bal</th>\n",
       "      <th>revol_util</th>\n",
       "      <th>out_prncp</th>\n",
       "      <th>out_prncp_inv</th>\n",
       "      <th>...</th>\n",
       "      <th>mths_since_rcnt_il</th>\n",
       "      <th>total_bal_il</th>\n",
       "      <th>il_util</th>\n",
       "      <th>open_rv_12m</th>\n",
       "      <th>open_rv_24m</th>\n",
       "      <th>max_bal_bc</th>\n",
       "      <th>all_util</th>\n",
       "      <th>inq_fi</th>\n",
       "      <th>total_cu_tl</th>\n",
       "      <th>inq_last_12m</th>\n",
       "    </tr>\n",
       "  </thead>\n",
       "  <tbody>\n",
       "    <tr>\n",
       "      <th>0</th>\n",
       "      <td>1</td>\n",
       "      <td>1077501</td>\n",
       "      <td>27.65</td>\n",
       "      <td>1.0</td>\n",
       "      <td>NaN</td>\n",
       "      <td>NaN</td>\n",
       "      <td>13648.0</td>\n",
       "      <td>83.7</td>\n",
       "      <td>0.0</td>\n",
       "      <td>0.0</td>\n",
       "      <td>...</td>\n",
       "      <td>NaN</td>\n",
       "      <td>NaN</td>\n",
       "      <td>NaN</td>\n",
       "      <td>NaN</td>\n",
       "      <td>NaN</td>\n",
       "      <td>NaN</td>\n",
       "      <td>NaN</td>\n",
       "      <td>NaN</td>\n",
       "      <td>NaN</td>\n",
       "      <td>NaN</td>\n",
       "    </tr>\n",
       "    <tr>\n",
       "      <th>1</th>\n",
       "      <td>2</td>\n",
       "      <td>1077430</td>\n",
       "      <td>1.00</td>\n",
       "      <td>5.0</td>\n",
       "      <td>NaN</td>\n",
       "      <td>NaN</td>\n",
       "      <td>1687.0</td>\n",
       "      <td>9.4</td>\n",
       "      <td>0.0</td>\n",
       "      <td>0.0</td>\n",
       "      <td>...</td>\n",
       "      <td>NaN</td>\n",
       "      <td>NaN</td>\n",
       "      <td>NaN</td>\n",
       "      <td>NaN</td>\n",
       "      <td>NaN</td>\n",
       "      <td>NaN</td>\n",
       "      <td>NaN</td>\n",
       "      <td>NaN</td>\n",
       "      <td>NaN</td>\n",
       "      <td>NaN</td>\n",
       "    </tr>\n",
       "    <tr>\n",
       "      <th>2</th>\n",
       "      <td>3</td>\n",
       "      <td>1077175</td>\n",
       "      <td>8.72</td>\n",
       "      <td>2.0</td>\n",
       "      <td>NaN</td>\n",
       "      <td>NaN</td>\n",
       "      <td>2956.0</td>\n",
       "      <td>98.5</td>\n",
       "      <td>0.0</td>\n",
       "      <td>0.0</td>\n",
       "      <td>...</td>\n",
       "      <td>NaN</td>\n",
       "      <td>NaN</td>\n",
       "      <td>NaN</td>\n",
       "      <td>NaN</td>\n",
       "      <td>NaN</td>\n",
       "      <td>NaN</td>\n",
       "      <td>NaN</td>\n",
       "      <td>NaN</td>\n",
       "      <td>NaN</td>\n",
       "      <td>NaN</td>\n",
       "    </tr>\n",
       "  </tbody>\n",
       "</table>\n",
       "<p>3 rows × 41 columns</p>\n",
       "</div>"
      ],
      "text/plain": [
       "   Unnamed: 0       id    dti  inq_last_6mths  mths_since_last_delinq  \\\n",
       "0           1  1077501  27.65             1.0                     NaN   \n",
       "1           2  1077430   1.00             5.0                     NaN   \n",
       "2           3  1077175   8.72             2.0                     NaN   \n",
       "\n",
       "   mths_since_last_record  revol_bal  revol_util  out_prncp  out_prncp_inv  \\\n",
       "0                     NaN    13648.0        83.7        0.0            0.0   \n",
       "1                     NaN     1687.0         9.4        0.0            0.0   \n",
       "2                     NaN     2956.0        98.5        0.0            0.0   \n",
       "\n",
       "      ...       mths_since_rcnt_il  total_bal_il  il_util  open_rv_12m  \\\n",
       "0     ...                      NaN           NaN      NaN          NaN   \n",
       "1     ...                      NaN           NaN      NaN          NaN   \n",
       "2     ...                      NaN           NaN      NaN          NaN   \n",
       "\n",
       "   open_rv_24m  max_bal_bc  all_util inq_fi  total_cu_tl inq_last_12m  \n",
       "0          NaN         NaN       NaN    NaN          NaN          NaN  \n",
       "1          NaN         NaN       NaN    NaN          NaN          NaN  \n",
       "2          NaN         NaN       NaN    NaN          NaN          NaN  \n",
       "\n",
       "[3 rows x 41 columns]"
      ]
     },
     "execution_count": 73,
     "metadata": {},
     "output_type": "execute_result"
    }
   ],
   "source": [
    "df_pay.head(3)"
   ]
  },
  {
   "cell_type": "code",
   "execution_count": 74,
   "metadata": {},
   "outputs": [
    {
     "data": {
      "text/html": [
       "<div>\n",
       "<style scoped>\n",
       "    .dataframe tbody tr th:only-of-type {\n",
       "        vertical-align: middle;\n",
       "    }\n",
       "\n",
       "    .dataframe tbody tr th {\n",
       "        vertical-align: top;\n",
       "    }\n",
       "\n",
       "    .dataframe thead th {\n",
       "        text-align: right;\n",
       "    }\n",
       "</style>\n",
       "<table border=\"1\" class=\"dataframe\">\n",
       "  <thead>\n",
       "    <tr style=\"text-align: right;\">\n",
       "      <th></th>\n",
       "      <th>Unnamed: 0_x</th>\n",
       "      <th>id</th>\n",
       "      <th>member_id</th>\n",
       "      <th>term</th>\n",
       "      <th>grade</th>\n",
       "      <th>sub_grade</th>\n",
       "      <th>loan_status</th>\n",
       "      <th>pymnt_plan</th>\n",
       "      <th>purpose</th>\n",
       "      <th>application_type</th>\n",
       "      <th>...</th>\n",
       "      <th>mths_since_rcnt_il</th>\n",
       "      <th>total_bal_il</th>\n",
       "      <th>il_util</th>\n",
       "      <th>open_rv_12m</th>\n",
       "      <th>open_rv_24m</th>\n",
       "      <th>max_bal_bc</th>\n",
       "      <th>all_util</th>\n",
       "      <th>inq_fi</th>\n",
       "      <th>total_cu_tl</th>\n",
       "      <th>inq_last_12m</th>\n",
       "    </tr>\n",
       "  </thead>\n",
       "  <tbody>\n",
       "    <tr>\n",
       "      <th>0</th>\n",
       "      <td>1</td>\n",
       "      <td>1077501</td>\n",
       "      <td>1296599</td>\n",
       "      <td>36 months</td>\n",
       "      <td>B</td>\n",
       "      <td>B2</td>\n",
       "      <td>Fully Paid</td>\n",
       "      <td>n</td>\n",
       "      <td>credit_card</td>\n",
       "      <td>INDIVIDUAL</td>\n",
       "      <td>...</td>\n",
       "      <td>NaN</td>\n",
       "      <td>NaN</td>\n",
       "      <td>NaN</td>\n",
       "      <td>NaN</td>\n",
       "      <td>NaN</td>\n",
       "      <td>NaN</td>\n",
       "      <td>NaN</td>\n",
       "      <td>NaN</td>\n",
       "      <td>NaN</td>\n",
       "      <td>NaN</td>\n",
       "    </tr>\n",
       "    <tr>\n",
       "      <th>1</th>\n",
       "      <td>2</td>\n",
       "      <td>1077430</td>\n",
       "      <td>1314167</td>\n",
       "      <td>60 months</td>\n",
       "      <td>C</td>\n",
       "      <td>C4</td>\n",
       "      <td>Charged Off</td>\n",
       "      <td>n</td>\n",
       "      <td>car</td>\n",
       "      <td>INDIVIDUAL</td>\n",
       "      <td>...</td>\n",
       "      <td>NaN</td>\n",
       "      <td>NaN</td>\n",
       "      <td>NaN</td>\n",
       "      <td>NaN</td>\n",
       "      <td>NaN</td>\n",
       "      <td>NaN</td>\n",
       "      <td>NaN</td>\n",
       "      <td>NaN</td>\n",
       "      <td>NaN</td>\n",
       "      <td>NaN</td>\n",
       "    </tr>\n",
       "    <tr>\n",
       "      <th>2</th>\n",
       "      <td>3</td>\n",
       "      <td>1077175</td>\n",
       "      <td>1313524</td>\n",
       "      <td>36 months</td>\n",
       "      <td>C</td>\n",
       "      <td>C5</td>\n",
       "      <td>Fully Paid</td>\n",
       "      <td>n</td>\n",
       "      <td>small_business</td>\n",
       "      <td>INDIVIDUAL</td>\n",
       "      <td>...</td>\n",
       "      <td>NaN</td>\n",
       "      <td>NaN</td>\n",
       "      <td>NaN</td>\n",
       "      <td>NaN</td>\n",
       "      <td>NaN</td>\n",
       "      <td>NaN</td>\n",
       "      <td>NaN</td>\n",
       "      <td>NaN</td>\n",
       "      <td>NaN</td>\n",
       "      <td>NaN</td>\n",
       "    </tr>\n",
       "  </tbody>\n",
       "</table>\n",
       "<p>3 rows × 71 columns</p>\n",
       "</div>"
      ],
      "text/plain": [
       "   Unnamed: 0_x       id  member_id        term grade sub_grade  loan_status  \\\n",
       "0             1  1077501    1296599   36 months     B        B2   Fully Paid   \n",
       "1             2  1077430    1314167   60 months     C        C4  Charged Off   \n",
       "2             3  1077175    1313524   36 months     C        C5   Fully Paid   \n",
       "\n",
       "  pymnt_plan         purpose application_type     ...      mths_since_rcnt_il  \\\n",
       "0          n     credit_card       INDIVIDUAL     ...                     NaN   \n",
       "1          n             car       INDIVIDUAL     ...                     NaN   \n",
       "2          n  small_business       INDIVIDUAL     ...                     NaN   \n",
       "\n",
       "  total_bal_il il_util  open_rv_12m  open_rv_24m  max_bal_bc  all_util  \\\n",
       "0          NaN     NaN          NaN          NaN         NaN       NaN   \n",
       "1          NaN     NaN          NaN          NaN         NaN       NaN   \n",
       "2          NaN     NaN          NaN          NaN         NaN       NaN   \n",
       "\n",
       "   inq_fi  total_cu_tl inq_last_12m  \n",
       "0     NaN          NaN          NaN  \n",
       "1     NaN          NaN          NaN  \n",
       "2     NaN          NaN          NaN  \n",
       "\n",
       "[3 rows x 71 columns]"
      ]
     },
     "execution_count": 74,
     "metadata": {},
     "output_type": "execute_result"
    }
   ],
   "source": [
    "df.head(3)"
   ]
  },
  {
   "cell_type": "markdown",
   "metadata": {},
   "source": [
    "***We are also able to make a very important observation here. Loan Status is our dependant variable and the other variables are independent variables***"
   ]
  },
  {
   "cell_type": "markdown",
   "metadata": {},
   "source": [
    "Checking the Size of the Merged Data set"
   ]
  },
  {
   "cell_type": "code",
   "execution_count": 75,
   "metadata": {},
   "outputs": [
    {
     "data": {
      "text/plain": [
       "(887379, 71)"
      ]
     },
     "execution_count": 75,
     "metadata": {},
     "output_type": "execute_result"
    }
   ],
   "source": [
    "df.shape"
   ]
  },
  {
   "cell_type": "markdown",
   "metadata": {},
   "source": [
    "<a id='cleaning'></a>\n",
    "## 2. Data Cleaning\n",
    "We try to achieve the following objectives:-\n",
    "\n",
    "1.Looking for variables which have null values and sorting it based on the maximum amount of null values present\n",
    "\n",
    "2.Dropping columns which have 80 % of their data as NA\n",
    "\n",
    "3.Dropping duplicates\n",
    "\n",
    "4.Looking to drop columns which intuitively wont add value to the prediction\n",
    "\n",
    "5.Filling NA's in the dataset\n",
    "\n",
    "6.Removing the word \"years\" from the column data \"emp_length\n",
    "\n",
    "7.Adding a cap on the annual income \n",
    "\n",
    "8.Removing highly correlated features\n"
   ]
  },
  {
   "cell_type": "markdown",
   "metadata": {},
   "source": [
    "#### 1.Looking for variables which have null values and sorting it based on the maximum amout of null values present"
   ]
  },
  {
   "cell_type": "code",
   "execution_count": 76,
   "metadata": {},
   "outputs": [
    {
     "data": {
      "text/html": [
       "<div>\n",
       "<style scoped>\n",
       "    .dataframe tbody tr th:only-of-type {\n",
       "        vertical-align: middle;\n",
       "    }\n",
       "\n",
       "    .dataframe tbody tr th {\n",
       "        vertical-align: top;\n",
       "    }\n",
       "\n",
       "    .dataframe thead th {\n",
       "        text-align: right;\n",
       "    }\n",
       "</style>\n",
       "<table border=\"1\" class=\"dataframe\">\n",
       "  <thead>\n",
       "    <tr style=\"text-align: right;\">\n",
       "      <th></th>\n",
       "      <th>Count</th>\n",
       "      <th>Percent</th>\n",
       "    </tr>\n",
       "  </thead>\n",
       "  <tbody>\n",
       "    <tr>\n",
       "      <th>dti_joint</th>\n",
       "      <td>886870</td>\n",
       "      <td>99.942640</td>\n",
       "    </tr>\n",
       "    <tr>\n",
       "      <th>annual_inc_joint</th>\n",
       "      <td>886868</td>\n",
       "      <td>99.942415</td>\n",
       "    </tr>\n",
       "    <tr>\n",
       "      <th>il_util</th>\n",
       "      <td>868762</td>\n",
       "      <td>97.902024</td>\n",
       "    </tr>\n",
       "    <tr>\n",
       "      <th>mths_since_rcnt_il</th>\n",
       "      <td>866569</td>\n",
       "      <td>97.654892</td>\n",
       "    </tr>\n",
       "    <tr>\n",
       "      <th>open_acc_6m</th>\n",
       "      <td>866007</td>\n",
       "      <td>97.591559</td>\n",
       "    </tr>\n",
       "    <tr>\n",
       "      <th>open_il_6m</th>\n",
       "      <td>866007</td>\n",
       "      <td>97.591559</td>\n",
       "    </tr>\n",
       "    <tr>\n",
       "      <th>open_il_12m</th>\n",
       "      <td>866007</td>\n",
       "      <td>97.591559</td>\n",
       "    </tr>\n",
       "    <tr>\n",
       "      <th>open_il_24m</th>\n",
       "      <td>866007</td>\n",
       "      <td>97.591559</td>\n",
       "    </tr>\n",
       "    <tr>\n",
       "      <th>total_bal_il</th>\n",
       "      <td>866007</td>\n",
       "      <td>97.591559</td>\n",
       "    </tr>\n",
       "    <tr>\n",
       "      <th>open_rv_12m</th>\n",
       "      <td>866007</td>\n",
       "      <td>97.591559</td>\n",
       "    </tr>\n",
       "    <tr>\n",
       "      <th>open_rv_24m</th>\n",
       "      <td>866007</td>\n",
       "      <td>97.591559</td>\n",
       "    </tr>\n",
       "    <tr>\n",
       "      <th>max_bal_bc</th>\n",
       "      <td>866007</td>\n",
       "      <td>97.591559</td>\n",
       "    </tr>\n",
       "    <tr>\n",
       "      <th>all_util</th>\n",
       "      <td>866007</td>\n",
       "      <td>97.591559</td>\n",
       "    </tr>\n",
       "    <tr>\n",
       "      <th>inq_fi</th>\n",
       "      <td>866007</td>\n",
       "      <td>97.591559</td>\n",
       "    </tr>\n",
       "    <tr>\n",
       "      <th>total_cu_tl</th>\n",
       "      <td>866007</td>\n",
       "      <td>97.591559</td>\n",
       "    </tr>\n",
       "    <tr>\n",
       "      <th>inq_last_12m</th>\n",
       "      <td>866007</td>\n",
       "      <td>97.591559</td>\n",
       "    </tr>\n",
       "    <tr>\n",
       "      <th>desc</th>\n",
       "      <td>761351</td>\n",
       "      <td>85.797726</td>\n",
       "    </tr>\n",
       "    <tr>\n",
       "      <th>mths_since_last_record</th>\n",
       "      <td>750326</td>\n",
       "      <td>84.555303</td>\n",
       "    </tr>\n",
       "    <tr>\n",
       "      <th>mths_since_last_major_derog</th>\n",
       "      <td>665676</td>\n",
       "      <td>75.015974</td>\n",
       "    </tr>\n",
       "    <tr>\n",
       "      <th>mths_since_last_delinq</th>\n",
       "      <td>454312</td>\n",
       "      <td>51.197065</td>\n",
       "    </tr>\n",
       "    <tr>\n",
       "      <th>next_pymnt_d</th>\n",
       "      <td>252971</td>\n",
       "      <td>28.507661</td>\n",
       "    </tr>\n",
       "    <tr>\n",
       "      <th>tot_coll_amt</th>\n",
       "      <td>70276</td>\n",
       "      <td>7.919502</td>\n",
       "    </tr>\n",
       "    <tr>\n",
       "      <th>tot_cur_bal</th>\n",
       "      <td>70276</td>\n",
       "      <td>7.919502</td>\n",
       "    </tr>\n",
       "    <tr>\n",
       "      <th>emp_title</th>\n",
       "      <td>51462</td>\n",
       "      <td>5.799326</td>\n",
       "    </tr>\n",
       "    <tr>\n",
       "      <th>emp_length</th>\n",
       "      <td>44825</td>\n",
       "      <td>5.051393</td>\n",
       "    </tr>\n",
       "    <tr>\n",
       "      <th>last_pymnt_d</th>\n",
       "      <td>17659</td>\n",
       "      <td>1.990018</td>\n",
       "    </tr>\n",
       "    <tr>\n",
       "      <th>revol_util</th>\n",
       "      <td>502</td>\n",
       "      <td>0.056571</td>\n",
       "    </tr>\n",
       "    <tr>\n",
       "      <th>title</th>\n",
       "      <td>152</td>\n",
       "      <td>0.017129</td>\n",
       "    </tr>\n",
       "    <tr>\n",
       "      <th>collections_12_mths_ex_med</th>\n",
       "      <td>145</td>\n",
       "      <td>0.016340</td>\n",
       "    </tr>\n",
       "    <tr>\n",
       "      <th>last_credit_pull_d</th>\n",
       "      <td>53</td>\n",
       "      <td>0.005973</td>\n",
       "    </tr>\n",
       "    <tr>\n",
       "      <th>...</th>\n",
       "      <td>...</td>\n",
       "      <td>...</td>\n",
       "    </tr>\n",
       "    <tr>\n",
       "      <th>term</th>\n",
       "      <td>0</td>\n",
       "      <td>0.000000</td>\n",
       "    </tr>\n",
       "    <tr>\n",
       "      <th>grade</th>\n",
       "      <td>0</td>\n",
       "      <td>0.000000</td>\n",
       "    </tr>\n",
       "    <tr>\n",
       "      <th>sub_grade</th>\n",
       "      <td>0</td>\n",
       "      <td>0.000000</td>\n",
       "    </tr>\n",
       "    <tr>\n",
       "      <th>loan_status</th>\n",
       "      <td>0</td>\n",
       "      <td>0.000000</td>\n",
       "    </tr>\n",
       "    <tr>\n",
       "      <th>pymnt_plan</th>\n",
       "      <td>0</td>\n",
       "      <td>0.000000</td>\n",
       "    </tr>\n",
       "    <tr>\n",
       "      <th>purpose</th>\n",
       "      <td>0</td>\n",
       "      <td>0.000000</td>\n",
       "    </tr>\n",
       "    <tr>\n",
       "      <th>application_type</th>\n",
       "      <td>0</td>\n",
       "      <td>0.000000</td>\n",
       "    </tr>\n",
       "    <tr>\n",
       "      <th>issue_d</th>\n",
       "      <td>0</td>\n",
       "      <td>0.000000</td>\n",
       "    </tr>\n",
       "    <tr>\n",
       "      <th>loan_amnt</th>\n",
       "      <td>0</td>\n",
       "      <td>0.000000</td>\n",
       "    </tr>\n",
       "    <tr>\n",
       "      <th>int_rate</th>\n",
       "      <td>0</td>\n",
       "      <td>0.000000</td>\n",
       "    </tr>\n",
       "    <tr>\n",
       "      <th>funded_amnt</th>\n",
       "      <td>0</td>\n",
       "      <td>0.000000</td>\n",
       "    </tr>\n",
       "    <tr>\n",
       "      <th>funded_amnt_inv</th>\n",
       "      <td>0</td>\n",
       "      <td>0.000000</td>\n",
       "    </tr>\n",
       "    <tr>\n",
       "      <th>installment</th>\n",
       "      <td>0</td>\n",
       "      <td>0.000000</td>\n",
       "    </tr>\n",
       "    <tr>\n",
       "      <th>Unnamed: 0_y</th>\n",
       "      <td>0</td>\n",
       "      <td>0.000000</td>\n",
       "    </tr>\n",
       "    <tr>\n",
       "      <th>home_ownership</th>\n",
       "      <td>0</td>\n",
       "      <td>0.000000</td>\n",
       "    </tr>\n",
       "    <tr>\n",
       "      <th>zip_code</th>\n",
       "      <td>0</td>\n",
       "      <td>0.000000</td>\n",
       "    </tr>\n",
       "    <tr>\n",
       "      <th>addr_state</th>\n",
       "      <td>0</td>\n",
       "      <td>0.000000</td>\n",
       "    </tr>\n",
       "    <tr>\n",
       "      <th>Unnamed: 0</th>\n",
       "      <td>0</td>\n",
       "      <td>0.000000</td>\n",
       "    </tr>\n",
       "    <tr>\n",
       "      <th>dti</th>\n",
       "      <td>0</td>\n",
       "      <td>0.000000</td>\n",
       "    </tr>\n",
       "    <tr>\n",
       "      <th>revol_bal</th>\n",
       "      <td>0</td>\n",
       "      <td>0.000000</td>\n",
       "    </tr>\n",
       "    <tr>\n",
       "      <th>out_prncp</th>\n",
       "      <td>0</td>\n",
       "      <td>0.000000</td>\n",
       "    </tr>\n",
       "    <tr>\n",
       "      <th>out_prncp_inv</th>\n",
       "      <td>0</td>\n",
       "      <td>0.000000</td>\n",
       "    </tr>\n",
       "    <tr>\n",
       "      <th>total_pymnt</th>\n",
       "      <td>0</td>\n",
       "      <td>0.000000</td>\n",
       "    </tr>\n",
       "    <tr>\n",
       "      <th>total_pymnt_inv</th>\n",
       "      <td>0</td>\n",
       "      <td>0.000000</td>\n",
       "    </tr>\n",
       "    <tr>\n",
       "      <th>total_rec_prncp</th>\n",
       "      <td>0</td>\n",
       "      <td>0.000000</td>\n",
       "    </tr>\n",
       "    <tr>\n",
       "      <th>total_rec_int</th>\n",
       "      <td>0</td>\n",
       "      <td>0.000000</td>\n",
       "    </tr>\n",
       "    <tr>\n",
       "      <th>total_rec_late_fee</th>\n",
       "      <td>0</td>\n",
       "      <td>0.000000</td>\n",
       "    </tr>\n",
       "    <tr>\n",
       "      <th>recoveries</th>\n",
       "      <td>0</td>\n",
       "      <td>0.000000</td>\n",
       "    </tr>\n",
       "    <tr>\n",
       "      <th>collection_recovery_fee</th>\n",
       "      <td>0</td>\n",
       "      <td>0.000000</td>\n",
       "    </tr>\n",
       "    <tr>\n",
       "      <th>last_pymnt_amnt</th>\n",
       "      <td>0</td>\n",
       "      <td>0.000000</td>\n",
       "    </tr>\n",
       "  </tbody>\n",
       "</table>\n",
       "<p>71 rows × 2 columns</p>\n",
       "</div>"
      ],
      "text/plain": [
       "                              Count    Percent\n",
       "dti_joint                    886870  99.942640\n",
       "annual_inc_joint             886868  99.942415\n",
       "il_util                      868762  97.902024\n",
       "mths_since_rcnt_il           866569  97.654892\n",
       "open_acc_6m                  866007  97.591559\n",
       "open_il_6m                   866007  97.591559\n",
       "open_il_12m                  866007  97.591559\n",
       "open_il_24m                  866007  97.591559\n",
       "total_bal_il                 866007  97.591559\n",
       "open_rv_12m                  866007  97.591559\n",
       "open_rv_24m                  866007  97.591559\n",
       "max_bal_bc                   866007  97.591559\n",
       "all_util                     866007  97.591559\n",
       "inq_fi                       866007  97.591559\n",
       "total_cu_tl                  866007  97.591559\n",
       "inq_last_12m                 866007  97.591559\n",
       "desc                         761351  85.797726\n",
       "mths_since_last_record       750326  84.555303\n",
       "mths_since_last_major_derog  665676  75.015974\n",
       "mths_since_last_delinq       454312  51.197065\n",
       "next_pymnt_d                 252971  28.507661\n",
       "tot_coll_amt                  70276   7.919502\n",
       "tot_cur_bal                   70276   7.919502\n",
       "emp_title                     51462   5.799326\n",
       "emp_length                    44825   5.051393\n",
       "last_pymnt_d                  17659   1.990018\n",
       "revol_util                      502   0.056571\n",
       "title                           152   0.017129\n",
       "collections_12_mths_ex_med      145   0.016340\n",
       "last_credit_pull_d               53   0.005973\n",
       "...                             ...        ...\n",
       "term                              0   0.000000\n",
       "grade                             0   0.000000\n",
       "sub_grade                         0   0.000000\n",
       "loan_status                       0   0.000000\n",
       "pymnt_plan                        0   0.000000\n",
       "purpose                           0   0.000000\n",
       "application_type                  0   0.000000\n",
       "issue_d                           0   0.000000\n",
       "loan_amnt                         0   0.000000\n",
       "int_rate                          0   0.000000\n",
       "funded_amnt                       0   0.000000\n",
       "funded_amnt_inv                   0   0.000000\n",
       "installment                       0   0.000000\n",
       "Unnamed: 0_y                      0   0.000000\n",
       "home_ownership                    0   0.000000\n",
       "zip_code                          0   0.000000\n",
       "addr_state                        0   0.000000\n",
       "Unnamed: 0                        0   0.000000\n",
       "dti                               0   0.000000\n",
       "revol_bal                         0   0.000000\n",
       "out_prncp                         0   0.000000\n",
       "out_prncp_inv                     0   0.000000\n",
       "total_pymnt                       0   0.000000\n",
       "total_pymnt_inv                   0   0.000000\n",
       "total_rec_prncp                   0   0.000000\n",
       "total_rec_int                     0   0.000000\n",
       "total_rec_late_fee                0   0.000000\n",
       "recoveries                        0   0.000000\n",
       "collection_recovery_fee           0   0.000000\n",
       "last_pymnt_amnt                   0   0.000000\n",
       "\n",
       "[71 rows x 2 columns]"
      ]
     },
     "execution_count": 76,
     "metadata": {},
     "output_type": "execute_result"
    }
   ],
   "source": [
    "df_null=pd.DataFrame({'Count': df.isnull().sum(), 'Percent': 100*df.isnull().sum()/len(df)})\n",
    "df_null.sort_values(by=['Count','Percent'],ascending=False)"
   ]
  },
  {
   "cell_type": "markdown",
   "metadata": {},
   "source": [
    "We have 71 columns in the original combined dataset"
   ]
  },
  {
   "cell_type": "markdown",
   "metadata": {},
   "source": [
    "#### 2.Dropping columns which have 80 % of their data as NA\n",
    "If you take a look, there are atleast 15 columns who have more than 80% of their data as 'NA'. Hence we can drop these rows"
   ]
  },
  {
   "cell_type": "code",
   "execution_count": 77,
   "metadata": {},
   "outputs": [],
   "source": [
    "df = df.dropna(axis=1, thresh=int(0.80*len(df)))"
   ]
  },
  {
   "cell_type": "markdown",
   "metadata": {},
   "source": [
    "#### 3.Dropping Duplicates "
   ]
  },
  {
   "cell_type": "code",
   "execution_count": 78,
   "metadata": {},
   "outputs": [],
   "source": [
    "df.drop_duplicates(keep='first',inplace=True)"
   ]
  },
  {
   "cell_type": "markdown",
   "metadata": {},
   "source": [
    "#### 4.Looking to drop columns which intuitively wont add value to the prediction\n",
    "We remove the columns which wont add much information to our predictive modeling"
   ]
  },
  {
   "cell_type": "code",
   "execution_count": 79,
   "metadata": {},
   "outputs": [],
   "source": [
    "drop_columns=['id','member_id','Unnamed: 0_y','Unnamed: 0','Unnamed: 0_x','zip_code','emp_title','addr_state','earliest_cr_line','issue_d','purpose','collections_12_mths_ex_med','last_credit_pull_d','last_pymnt_d','earliest_cr_line','sub_grade','title','pymnt_plan','application_type','term','dti','revol_util','tot_cur_bal','open_acc','pub_rec','delinq_2yrs','tot_coll_amt','acc_now_delinq']\n",
    "#,'term','dti','emp_length','annual_inc','revol_util','tot_cur_bal','open_acc','pub_rec','delinq_2yrs','tot_coll_amt','acc_now_delinq']\n",
    "df.drop(columns=drop_columns,axis=1,inplace=True)"
   ]
  },
  {
   "cell_type": "markdown",
   "metadata": {},
   "source": [
    "#### 5 .Filling NA's present in the dataset"
   ]
  },
  {
   "cell_type": "code",
   "execution_count": 80,
   "metadata": {},
   "outputs": [
    {
     "data": {
      "text/plain": [
       "grade                          0\n",
       "loan_status                    0\n",
       "loan_amnt                      0\n",
       "int_rate                       0\n",
       "funded_amnt                    0\n",
       "funded_amnt_inv                0\n",
       "installment                    0\n",
       "emp_length                 44825\n",
       "home_ownership                 0\n",
       "annual_inc                     4\n",
       "total_acc                     29\n",
       "inq_last_6mths                29\n",
       "revol_bal                      0\n",
       "out_prncp                      0\n",
       "out_prncp_inv                  0\n",
       "total_pymnt                    0\n",
       "total_pymnt_inv                0\n",
       "total_rec_prncp                0\n",
       "total_rec_int                  0\n",
       "total_rec_late_fee             0\n",
       "recoveries                     0\n",
       "collection_recovery_fee        0\n",
       "last_pymnt_amnt                0\n",
       "dtype: int64"
      ]
     },
     "execution_count": 80,
     "metadata": {},
     "output_type": "execute_result"
    }
   ],
   "source": [
    "df.isna().sum()"
   ]
  },
  {
   "cell_type": "code",
   "execution_count": 81,
   "metadata": {},
   "outputs": [],
   "source": [
    "#df.dropna(axis=0,inplace=True)\n",
    "\n",
    "df.emp_length.fillna(0,inplace=True)\n",
    "df.annual_inc.fillna(df.annual_inc.mean(),inplace=True)\n",
    "df.inq_last_6mths.fillna(0,inplace=True) \n",
    "df.total_acc.fillna(0,inplace=True) "
   ]
  },
  {
   "cell_type": "markdown",
   "metadata": {},
   "source": [
    "Removing the word \"months\" from the data"
   ]
  },
  {
   "cell_type": "code",
   "execution_count": 82,
   "metadata": {},
   "outputs": [],
   "source": [
    "#df['term'] = [x[:2] for x in df['term']]\n",
    "#df['term'] = pd.to_numeric(df['term'],errors='coerce')"
   ]
  },
  {
   "cell_type": "markdown",
   "metadata": {},
   "source": [
    "#### 6.Removing the word \"years\" from the column data \"emp_length\""
   ]
  },
  {
   "cell_type": "code",
   "execution_count": 83,
   "metadata": {},
   "outputs": [],
   "source": [
    "df['emp_length'] = df[\"emp_length\"].replace({'years':'','year':'',' ':'','<':'','\\+':'','n/a':'0'}, regex = True)\n",
    "df.emp_length=df.emp_length.astype(int)"
   ]
  },
  {
   "cell_type": "code",
   "execution_count": 84,
   "metadata": {},
   "outputs": [
    {
     "data": {
      "text/plain": [
       "count    8.873790e+05\n",
       "mean     7.502759e+04\n",
       "std      6.469815e+04\n",
       "min      0.000000e+00\n",
       "25%      4.500000e+04\n",
       "50%      6.500000e+04\n",
       "75%      9.000000e+04\n",
       "max      9.500000e+06\n",
       "Name: annual_inc, dtype: float64"
      ]
     },
     "execution_count": 84,
     "metadata": {},
     "output_type": "execute_result"
    }
   ],
   "source": [
    "df.annual_inc.describe()"
   ]
  },
  {
   "cell_type": "markdown",
   "metadata": {},
   "source": [
    "#### 7.Adding cap to annual income\n",
    "Here I added a cap on my annual income. As without cap, there were too many outliers. "
   ]
  },
  {
   "cell_type": "code",
   "execution_count": 85,
   "metadata": {},
   "outputs": [],
   "source": [
    "df['annual_inc'].describe()\n",
    "df_cap=df.query(\"annual_inc<=8.e+04\")"
   ]
  },
  {
   "cell_type": "markdown",
   "metadata": {},
   "source": [
    "#### 8. Removing highly correlated features\n",
    "We try to remove features which are highly corelated. Variables which are highly correlated should be removed as they disturb in the process of creating predictive models. Here we remove variables that have correlation of 0.65 and above"
   ]
  },
  {
   "cell_type": "code",
   "execution_count": 86,
   "metadata": {
    "scrolled": false
   },
   "outputs": [],
   "source": [
    "corr_matrix = df.corr().abs()\n",
    "# Select upper triangle of correlation matrix\n",
    "upper = corr_matrix.where(np.triu(np.ones(corr_matrix.shape), k=1).astype(np.bool))\n",
    "# Find index of feature columns with correlation greater than 0.65\n",
    "to_drop = [column for column in upper.columns if any(upper[column] > 0.65)]\n",
    "df.drop(columns=to_drop, axis=1, inplace=True )\n",
    "#df.drop(df_numerical[to_drop], axis=1, inplace=True )\n"
   ]
  },
  {
   "cell_type": "markdown",
   "metadata": {},
   "source": [
    "<a id='assessing'></a>\n",
    "## 2. Exploratory Data Analysis (EDA) \n",
    "We try to explore the data and see what relations we find among different variables\n",
    "\n",
    "\n",
    "1.Plotting Histogram\n",
    "\n",
    "2.Relation betweem Employment length and Loan Status\n",
    "\n",
    "3.Relation betweem Annual Income and Loan Status\n",
    "\n",
    "4.Relation betweem Home Ownership and Loan Amount\n",
    "\n",
    "5.Heatmap \n",
    "\n",
    "6.Checking loan_status as dependant variable"
   ]
  },
  {
   "cell_type": "markdown",
   "metadata": {},
   "source": [
    "#### 1.Plotting Histogram  "
   ]
  },
  {
   "cell_type": "code",
   "execution_count": 87,
   "metadata": {},
   "outputs": [
    {
     "data": {
      "text/plain": [
       "array([[<matplotlib.axes._subplots.AxesSubplot object at 0x0000026F283A6358>,\n",
       "        <matplotlib.axes._subplots.AxesSubplot object at 0x0000026F275C2710>,\n",
       "        <matplotlib.axes._subplots.AxesSubplot object at 0x0000026F259D1BA8>],\n",
       "       [<matplotlib.axes._subplots.AxesSubplot object at 0x0000026F253C0630>,\n",
       "        <matplotlib.axes._subplots.AxesSubplot object at 0x0000026F20F8DC18>,\n",
       "        <matplotlib.axes._subplots.AxesSubplot object at 0x0000026F20F8DCF8>],\n",
       "       [<matplotlib.axes._subplots.AxesSubplot object at 0x0000026F217F4C18>,\n",
       "        <matplotlib.axes._subplots.AxesSubplot object at 0x0000026F217CD550>,\n",
       "        <matplotlib.axes._subplots.AxesSubplot object at 0x0000026F22B86B38>],\n",
       "       [<matplotlib.axes._subplots.AxesSubplot object at 0x0000026F259F7780>,\n",
       "        <matplotlib.axes._subplots.AxesSubplot object at 0x0000026F4A41E3C8>,\n",
       "        <matplotlib.axes._subplots.AxesSubplot object at 0x0000026F259B2F60>]],\n",
       "      dtype=object)"
      ]
     },
     "execution_count": 87,
     "metadata": {},
     "output_type": "execute_result"
    },
    {
     "data": {
      "image/png": "[encoded data removed]",
      "text/plain": [
       "<Figure size 1080x1080 with 12 Axes>"
      ]
     },
     "metadata": {},
     "output_type": "display_data"
    }
   ],
   "source": [
    "df.hist(figsize=(15,15))"
   ]
  },
  {
   "cell_type": "markdown",
   "metadata": {},
   "source": [
    "Here I added a cap on my annual income. As without cap, there were too many outliers. "
   ]
  },
  {
   "cell_type": "code",
   "execution_count": 88,
   "metadata": {},
   "outputs": [
    {
     "data": {
      "text/plain": [
       "count    8.873790e+05\n",
       "mean     7.502759e+04\n",
       "std      6.469815e+04\n",
       "min      0.000000e+00\n",
       "25%      4.500000e+04\n",
       "50%      6.500000e+04\n",
       "75%      9.000000e+04\n",
       "max      9.500000e+06\n",
       "Name: annual_inc, dtype: float64"
      ]
     },
     "execution_count": 88,
     "metadata": {},
     "output_type": "execute_result"
    }
   ],
   "source": [
    "df['annual_inc'].describe()"
   ]
  },
  {
   "cell_type": "code",
   "execution_count": 89,
   "metadata": {},
   "outputs": [],
   "source": [
    "df_cap=df.query(\"annual_inc<=8.e+04\")"
   ]
  },
  {
   "cell_type": "code",
   "execution_count": 90,
   "metadata": {},
   "outputs": [
    {
     "name": "stderr",
     "output_type": "stream",
     "text": [
      "C:\\Users\\sarita.machado\\AppData\\Local\\Continuum\\anaconda3\\lib\\site-packages\\matplotlib\\axes\\_axes.py:6462: UserWarning: The 'normed' kwarg is deprecated, and has been replaced by the 'density' kwarg.\n",
      "  warnings.warn(\"The 'normed' kwarg is deprecated, and has been \"\n"
     ]
    },
    {
     "data": {
      "text/plain": [
       "<matplotlib.axes._subplots.AxesSubplot at 0x26f01e71c18>"
      ]
     },
     "execution_count": 90,
     "metadata": {},
     "output_type": "execute_result"
    },
    {
     "data": {
      "image/png": "[encoded data removed]",
      "text/plain": [
       "<Figure size 432x288 with 1 Axes>"
      ]
     },
     "metadata": {},
     "output_type": "display_data"
    }
   ],
   "source": [
    "x = np.random.normal(size=100)\n",
    "sns.distplot(df_cap.annual_inc)"
   ]
  },
  {
   "cell_type": "markdown",
   "metadata": {},
   "source": [
    "#### 2.Relation betweem Employment length and Loan Status"
   ]
  },
  {
   "cell_type": "code",
   "execution_count": 91,
   "metadata": {},
   "outputs": [
    {
     "data": {
      "text/plain": [
       "(array([0, 1, 2, 3, 4, 5, 6, 7, 8, 9]), <a list of 10 Text xticklabel objects>)"
      ]
     },
     "execution_count": 91,
     "metadata": {},
     "output_type": "execute_result"
    },
    {
     "data": {
      "image/png": "[encoded data removed]",
      "text/plain": [
       "<Figure size 864x432 with 1 Axes>"
      ]
     },
     "metadata": {},
     "output_type": "display_data"
    }
   ],
   "source": [
    "plt.figure(figsize = (12, 6))\n",
    "sns.boxplot(x = 'loan_status', y = 'emp_length',  data = df)\n",
    "plt.xticks(rotation=45)"
   ]
  },
  {
   "cell_type": "markdown",
   "metadata": {},
   "source": [
    "We infer from the above figure that employee length does not really have an impact on the loan_status"
   ]
  },
  {
   "cell_type": "markdown",
   "metadata": {},
   "source": [
    "#### 3. Relation betweem Annual Income and Loan Status"
   ]
  },
  {
   "cell_type": "markdown",
   "metadata": {},
   "source": [
    "Here I added a cap on my annual income. As without cap, there were too many outliers. "
   ]
  },
  {
   "cell_type": "code",
   "execution_count": 92,
   "metadata": {},
   "outputs": [],
   "source": [
    "df['annual_inc'].describe()\n",
    "df_cap=df.query(\"annual_inc<=8.e+04\")"
   ]
  },
  {
   "cell_type": "markdown",
   "metadata": {},
   "source": [
    "#### Case when the annual income is not capped. Most of the outliers are seen without understanding the pltos"
   ]
  },
  {
   "cell_type": "code",
   "execution_count": 93,
   "metadata": {},
   "outputs": [
    {
     "data": {
      "text/plain": [
       "(array([0, 1, 2, 3, 4, 5, 6, 7, 8, 9]), <a list of 10 Text xticklabel objects>)"
      ]
     },
     "execution_count": 93,
     "metadata": {},
     "output_type": "execute_result"
    },
    {
     "data": {
      "image/png": "[encoded data removed]",
      "text/plain": [
       "<Figure size 864x432 with 1 Axes>"
      ]
     },
     "metadata": {},
     "output_type": "display_data"
    }
   ],
   "source": [
    "plt.figure(figsize = (12, 6))\n",
    "sns.boxplot(x = 'loan_status', y = 'annual_inc',  data = df)\n",
    "plt.xticks(rotation=45)"
   ]
  },
  {
   "cell_type": "code",
   "execution_count": 94,
   "metadata": {},
   "outputs": [
    {
     "data": {
      "text/plain": [
       "Current                                                601779\n",
       "Fully Paid                                             207723\n",
       "Charged Off                                             45248\n",
       "Late (31-120 days)                                      11591\n",
       "Issued                                                   8460\n",
       "In Grace Period                                          6253\n",
       "Late (16-30 days)                                        2357\n",
       "Does not meet the credit policy. Status:Fully Paid       1988\n",
       "Default                                                  1219\n",
       "Does not meet the credit policy. Status:Charged Off       761\n",
       "Name: loan_status, dtype: int64"
      ]
     },
     "execution_count": 94,
     "metadata": {},
     "output_type": "execute_result"
    },
    {
     "data": {
      "image/png": "[encoded data removed]",
      "text/plain": [
       "<Figure size 720x504 with 1 Axes>"
      ]
     },
     "metadata": {},
     "output_type": "display_data"
    }
   ],
   "source": [
    "plt.figure(figsize=(10,7))\n",
    "loan_status=df['loan_status'].value_counts()\n",
    "sns.barplot(loan_status.index,loan_status,palette='Oranges')\n",
    "plt.xlabel('Loan Status')\n",
    "plt.ylabel('Count of Values')\n",
    "plt.title(\"Loan Value Status\")\n",
    "plt.xticks(rotation=45)\n",
    "loan_status"
   ]
  },
  {
   "cell_type": "code",
   "execution_count": 95,
   "metadata": {},
   "outputs": [
    {
     "data": {
      "text/plain": [
       "(array([0, 1, 2, 3, 4, 5, 6, 7, 8, 9]), <a list of 10 Text xticklabel objects>)"
      ]
     },
     "execution_count": 95,
     "metadata": {},
     "output_type": "execute_result"
    },
    {
     "data": {
      "image/png": "[encoded data removed]",
      "text/plain": [
       "<Figure size 864x432 with 1 Axes>"
      ]
     },
     "metadata": {},
     "output_type": "display_data"
    }
   ],
   "source": [
    "plt.figure(figsize = (12, 6))\n",
    "sns.boxplot(x = 'loan_status', y = 'annual_inc',  data = df_cap)\n",
    "plt.xticks(rotation=45)"
   ]
  },
  {
   "cell_type": "markdown",
   "metadata": {},
   "source": [
    "Annual incomes doesnt influence the loan status. Since loan status like \"late\", \"in-grace period\" have also similar quartile ranges like \"fully paid\". Infact here you see that loans are given to people who dont have any income"
   ]
  },
  {
   "cell_type": "markdown",
   "metadata": {},
   "source": [
    "#### 4. Relation betweem Home Ownership and Loan Amount"
   ]
  },
  {
   "cell_type": "code",
   "execution_count": 96,
   "metadata": {},
   "outputs": [
    {
     "data": {
      "text/plain": [
       "<matplotlib.axes._subplots.AxesSubplot at 0x26f035e3e80>"
      ]
     },
     "execution_count": 96,
     "metadata": {},
     "output_type": "execute_result"
    },
    {
     "data": {
      "image/png": "[encoded data removed]",
      "text/plain": [
       "<Figure size 864x432 with 1 Axes>"
      ]
     },
     "metadata": {},
     "output_type": "display_data"
    }
   ],
   "source": [
    "plt.figure(figsize = (12, 6))\n",
    "sns.boxplot(x = 'home_ownership', y = 'loan_amnt',  data = df)"
   ]
  },
  {
   "cell_type": "markdown",
   "metadata": {},
   "source": [
    "The normal part of this data is that the ones who already own a house have taken loans with higher loan amounts.But it is striking to see that the ones under category \"mortgage\""
   ]
  },
  {
   "cell_type": "code",
   "execution_count": 97,
   "metadata": {
    "scrolled": true
   },
   "outputs": [
    {
     "data": {
      "image/png": "[encoded data removed]",
      "text/plain": [
       "<Figure size 1080x1080 with 2 Axes>"
      ]
     },
     "metadata": {},
     "output_type": "display_data"
    }
   ],
   "source": [
    "plt.figure(figsize = [15, 15])\n",
    "sns.heatmap(df.corr(), annot = True, fmt = '.3f',cmap = 'vlag_r', center = 0)\n",
    "plt.show()"
   ]
  },
  {
   "cell_type": "markdown",
   "metadata": {},
   "source": [
    "***This heatmap helps us to validate the fact that our variables that will be used in further analysis are not correlated to each other by > 65%***\n",
    "\n",
    "From the above heatmap we can conclude following things:\n",
    "    \n",
    "1. Recoveries are highly related to loan status. This is intuitive as well that higher recoveries indicate that the loan will be \"Charged off\" \n",
    "2. total_pymnt is postively related to loan status. This means the total amount paid is a good indication to predict the loan status\n",
    "3. Interest Rate is negatively related to loan status. This is also well understood higher the interest rate, lower the chances of loan being paid off in time\n"
   ]
  },
  {
   "cell_type": "markdown",
   "metadata": {},
   "source": [
    "#### 5.Heatmap"
   ]
  },
  {
   "cell_type": "markdown",
   "metadata": {},
   "source": [
    "#### 6.Checking the loan status as dependent variable"
   ]
  },
  {
   "cell_type": "code",
   "execution_count": 98,
   "metadata": {},
   "outputs": [],
   "source": [
    "df_loanstatus_sliced= df[(df['loan_status']==\"Fully Paid\") | (df['loan_status']==\"Charged Off\")]\n",
    "di = {\"Fully Paid\":0, \"Charged Off\":1}   #converting target variable to boolean\n",
    "df= df_loanstatus_sliced.replace({\"loan_status\": di})"
   ]
  },
  {
   "cell_type": "code",
   "execution_count": 99,
   "metadata": {},
   "outputs": [
    {
     "data": {
      "text/plain": [
       "0    207723\n",
       "1     45248\n",
       "Name: loan_status, dtype: int64"
      ]
     },
     "execution_count": 99,
     "metadata": {},
     "output_type": "execute_result"
    },
    {
     "data": {
      "image/png": "[encoded data removed]",
      "text/plain": [
       "<Figure size 360x360 with 1 Axes>"
      ]
     },
     "metadata": {},
     "output_type": "display_data"
    }
   ],
   "source": [
    "plt.figure(figsize=(5,5))\n",
    "loan_status=df['loan_status'].value_counts()\n",
    "sns.barplot(loan_status.index,loan_status,palette='Pastel1')\n",
    "plt.xlabel('Count')\n",
    "plt.title(\"Loan Value Status\")\n",
    "plt.xticks(rotation=90)\n",
    "loan_status"
   ]
  },
  {
   "cell_type": "markdown",
   "metadata": {},
   "source": [
    "We have an imbalance of data here..where the number of 0's outnumber the 1's. the majority class dominates over the minority class, causing the machine learning classifier to be more biased to the majority class. "
   ]
  },
  {
   "cell_type": "code",
   "execution_count": 100,
   "metadata": {},
   "outputs": [
    {
     "name": "stdout",
     "output_type": "stream",
     "text": [
      "Current shape of dataset : (252971, 13)\n"
     ]
    },
    {
     "data": {
      "text/html": [
       "<div>\n",
       "<style scoped>\n",
       "    .dataframe tbody tr th:only-of-type {\n",
       "        vertical-align: middle;\n",
       "    }\n",
       "\n",
       "    .dataframe tbody tr th {\n",
       "        vertical-align: top;\n",
       "    }\n",
       "\n",
       "    .dataframe thead th {\n",
       "        text-align: right;\n",
       "    }\n",
       "</style>\n",
       "<table border=\"1\" class=\"dataframe\">\n",
       "  <thead>\n",
       "    <tr style=\"text-align: right;\">\n",
       "      <th></th>\n",
       "      <th>grade</th>\n",
       "      <th>loan_status</th>\n",
       "      <th>loan_amnt</th>\n",
       "      <th>int_rate</th>\n",
       "      <th>emp_length</th>\n",
       "      <th>home_ownership</th>\n",
       "      <th>annual_inc</th>\n",
       "      <th>total_acc</th>\n",
       "      <th>inq_last_6mths</th>\n",
       "      <th>revol_bal</th>\n",
       "      <th>total_pymnt</th>\n",
       "      <th>total_rec_late_fee</th>\n",
       "      <th>recoveries</th>\n",
       "    </tr>\n",
       "  </thead>\n",
       "  <tbody>\n",
       "    <tr>\n",
       "      <th>0</th>\n",
       "      <td>B</td>\n",
       "      <td>0</td>\n",
       "      <td>5000</td>\n",
       "      <td>10.65</td>\n",
       "      <td>10</td>\n",
       "      <td>RENT</td>\n",
       "      <td>24000.0</td>\n",
       "      <td>9.0</td>\n",
       "      <td>1.0</td>\n",
       "      <td>13648.0</td>\n",
       "      <td>5861.071414</td>\n",
       "      <td>0.0</td>\n",
       "      <td>0.00</td>\n",
       "    </tr>\n",
       "    <tr>\n",
       "      <th>1</th>\n",
       "      <td>C</td>\n",
       "      <td>1</td>\n",
       "      <td>2500</td>\n",
       "      <td>15.27</td>\n",
       "      <td>1</td>\n",
       "      <td>RENT</td>\n",
       "      <td>30000.0</td>\n",
       "      <td>4.0</td>\n",
       "      <td>5.0</td>\n",
       "      <td>1687.0</td>\n",
       "      <td>1008.710000</td>\n",
       "      <td>0.0</td>\n",
       "      <td>117.08</td>\n",
       "    </tr>\n",
       "    <tr>\n",
       "      <th>2</th>\n",
       "      <td>C</td>\n",
       "      <td>0</td>\n",
       "      <td>2400</td>\n",
       "      <td>15.96</td>\n",
       "      <td>10</td>\n",
       "      <td>RENT</td>\n",
       "      <td>12252.0</td>\n",
       "      <td>10.0</td>\n",
       "      <td>2.0</td>\n",
       "      <td>2956.0</td>\n",
       "      <td>3003.653644</td>\n",
       "      <td>0.0</td>\n",
       "      <td>0.00</td>\n",
       "    </tr>\n",
       "  </tbody>\n",
       "</table>\n",
       "</div>"
      ],
      "text/plain": [
       "  grade  loan_status  loan_amnt  int_rate  emp_length home_ownership  \\\n",
       "0     B            0       5000     10.65          10           RENT   \n",
       "1     C            1       2500     15.27           1           RENT   \n",
       "2     C            0       2400     15.96          10           RENT   \n",
       "\n",
       "   annual_inc  total_acc  inq_last_6mths  revol_bal  total_pymnt  \\\n",
       "0     24000.0        9.0             1.0    13648.0  5861.071414   \n",
       "1     30000.0        4.0             5.0     1687.0  1008.710000   \n",
       "2     12252.0       10.0             2.0     2956.0  3003.653644   \n",
       "\n",
       "   total_rec_late_fee  recoveries  \n",
       "0                 0.0        0.00  \n",
       "1                 0.0      117.08  \n",
       "2                 0.0        0.00  "
      ]
     },
     "execution_count": 100,
     "metadata": {},
     "output_type": "execute_result"
    }
   ],
   "source": [
    "df['loan_status'].value_counts()\n",
    "print(\"Current shape of dataset :\",df.shape)\n",
    "df.head(3)"
   ]
  },
  {
   "cell_type": "code",
   "execution_count": 101,
   "metadata": {
    "scrolled": true
   },
   "outputs": [
    {
     "data": {
      "text/plain": [
       "(252971, 13)"
      ]
     },
     "execution_count": 101,
     "metadata": {},
     "output_type": "execute_result"
    }
   ],
   "source": [
    "df.shape"
   ]
  },
  {
   "cell_type": "markdown",
   "metadata": {},
   "source": [
    "<a id='predictive'></a>\n",
    "### 4)Building Predictive Models\n",
    "We try to explore the data and see what relations we find among different variables\n",
    "\n",
    "\n",
    "1.Using Box Cox Transformation\n",
    "\n",
    "2.One-Hot Encoding\n",
    "\n",
    "3.Separating the \"X\" and \"y\"\n",
    "\n",
    "4.Splitting the data using scikitlearn's train_test_split and using 70% data for training and 30% for testing\n",
    "\n",
    "5.Using SMOTE Technique to remove problem of imbalance data\n",
    "\n",
    "6.Defining the confusion matrix\n",
    "\n",
    "7.Building Models"
   ]
  },
  {
   "cell_type": "markdown",
   "metadata": {},
   "source": [
    "#### 1.Using Box Cox Transformation\n",
    "\n",
    "We use Box-Cox Transformation inorder to transform the numerical variables into a normal shape\n"
   ]
  },
  {
   "cell_type": "code",
   "execution_count": 102,
   "metadata": {},
   "outputs": [],
   "source": [
    "numerical = df.columns[df.dtypes == {'float64','int64'}]\n",
    "for i in numerical:\n",
    "    if df[i].min() > 0:\n",
    "        transformed, lamb = boxcox(df.loc[df[i].notnull(), i])\n",
    "        if np.abs(1 - lamb) > 0.02:\n",
    "            df.loc[df[i].notnull(), i] = transformed"
   ]
  },
  {
   "cell_type": "code",
   "execution_count": 103,
   "metadata": {},
   "outputs": [
    {
     "data": {
      "text/html": [
       "<div>\n",
       "<style scoped>\n",
       "    .dataframe tbody tr th:only-of-type {\n",
       "        vertical-align: middle;\n",
       "    }\n",
       "\n",
       "    .dataframe tbody tr th {\n",
       "        vertical-align: top;\n",
       "    }\n",
       "\n",
       "    .dataframe thead th {\n",
       "        text-align: right;\n",
       "    }\n",
       "</style>\n",
       "<table border=\"1\" class=\"dataframe\">\n",
       "  <thead>\n",
       "    <tr style=\"text-align: right;\">\n",
       "      <th></th>\n",
       "      <th>grade</th>\n",
       "      <th>loan_status</th>\n",
       "      <th>loan_amnt</th>\n",
       "      <th>int_rate</th>\n",
       "      <th>emp_length</th>\n",
       "      <th>home_ownership</th>\n",
       "      <th>annual_inc</th>\n",
       "      <th>total_acc</th>\n",
       "      <th>inq_last_6mths</th>\n",
       "      <th>revol_bal</th>\n",
       "      <th>total_pymnt</th>\n",
       "      <th>total_rec_late_fee</th>\n",
       "      <th>recoveries</th>\n",
       "    </tr>\n",
       "  </thead>\n",
       "  <tbody>\n",
       "    <tr>\n",
       "      <th>0</th>\n",
       "      <td>B</td>\n",
       "      <td>0</td>\n",
       "      <td>5000</td>\n",
       "      <td>10.65</td>\n",
       "      <td>10</td>\n",
       "      <td>RENT</td>\n",
       "      <td>24000.0</td>\n",
       "      <td>9.0</td>\n",
       "      <td>1.0</td>\n",
       "      <td>13648.0</td>\n",
       "      <td>5861.071414</td>\n",
       "      <td>0.0</td>\n",
       "      <td>0.00</td>\n",
       "    </tr>\n",
       "    <tr>\n",
       "      <th>1</th>\n",
       "      <td>C</td>\n",
       "      <td>1</td>\n",
       "      <td>2500</td>\n",
       "      <td>15.27</td>\n",
       "      <td>1</td>\n",
       "      <td>RENT</td>\n",
       "      <td>30000.0</td>\n",
       "      <td>4.0</td>\n",
       "      <td>5.0</td>\n",
       "      <td>1687.0</td>\n",
       "      <td>1008.710000</td>\n",
       "      <td>0.0</td>\n",
       "      <td>117.08</td>\n",
       "    </tr>\n",
       "    <tr>\n",
       "      <th>2</th>\n",
       "      <td>C</td>\n",
       "      <td>0</td>\n",
       "      <td>2400</td>\n",
       "      <td>15.96</td>\n",
       "      <td>10</td>\n",
       "      <td>RENT</td>\n",
       "      <td>12252.0</td>\n",
       "      <td>10.0</td>\n",
       "      <td>2.0</td>\n",
       "      <td>2956.0</td>\n",
       "      <td>3003.653644</td>\n",
       "      <td>0.0</td>\n",
       "      <td>0.00</td>\n",
       "    </tr>\n",
       "  </tbody>\n",
       "</table>\n",
       "</div>"
      ],
      "text/plain": [
       "  grade  loan_status  loan_amnt  int_rate  emp_length home_ownership  \\\n",
       "0     B            0       5000     10.65          10           RENT   \n",
       "1     C            1       2500     15.27           1           RENT   \n",
       "2     C            0       2400     15.96          10           RENT   \n",
       "\n",
       "   annual_inc  total_acc  inq_last_6mths  revol_bal  total_pymnt  \\\n",
       "0     24000.0        9.0             1.0    13648.0  5861.071414   \n",
       "1     30000.0        4.0             5.0     1687.0  1008.710000   \n",
       "2     12252.0       10.0             2.0     2956.0  3003.653644   \n",
       "\n",
       "   total_rec_late_fee  recoveries  \n",
       "0                 0.0        0.00  \n",
       "1                 0.0      117.08  \n",
       "2                 0.0        0.00  "
      ]
     },
     "execution_count": 103,
     "metadata": {},
     "output_type": "execute_result"
    }
   ],
   "source": [
    "df.head(3)"
   ]
  },
  {
   "cell_type": "markdown",
   "metadata": {},
   "source": [
    "#### 2.One-Hot Encoding\n",
    "\n",
    "We use one-hot encoding as it a very straight forward one-step procedure to get the dummy variables for categorical features.\n"
   ]
  },
  {
   "cell_type": "code",
   "execution_count": 104,
   "metadata": {},
   "outputs": [],
   "source": [
    "df_string = df.select_dtypes(include ='object') \n",
    "dummy_grade=pd.get_dummies(df[\"grade\"], prefix=\"grade\")\n",
    "dummy_ownership=pd.get_dummies(df[\"home_ownership\"], prefix=\"ownership\")\n",
    "df=df.join(dummy_grade.iloc[:,:])\n",
    "df=df.join(dummy_ownership.iloc[:,:])\n",
    "df.drop(columns={'grade','home_ownership'},inplace=True )\n"
   ]
  },
  {
   "cell_type": "code",
   "execution_count": 105,
   "metadata": {},
   "outputs": [
    {
     "data": {
      "text/html": [
       "<div>\n",
       "<style scoped>\n",
       "    .dataframe tbody tr th:only-of-type {\n",
       "        vertical-align: middle;\n",
       "    }\n",
       "\n",
       "    .dataframe tbody tr th {\n",
       "        vertical-align: top;\n",
       "    }\n",
       "\n",
       "    .dataframe thead th {\n",
       "        text-align: right;\n",
       "    }\n",
       "</style>\n",
       "<table border=\"1\" class=\"dataframe\">\n",
       "  <thead>\n",
       "    <tr style=\"text-align: right;\">\n",
       "      <th></th>\n",
       "      <th>grade_A</th>\n",
       "      <th>grade_B</th>\n",
       "      <th>grade_C</th>\n",
       "    </tr>\n",
       "  </thead>\n",
       "  <tbody>\n",
       "    <tr>\n",
       "      <th>0</th>\n",
       "      <td>0</td>\n",
       "      <td>1</td>\n",
       "      <td>0</td>\n",
       "    </tr>\n",
       "    <tr>\n",
       "      <th>1</th>\n",
       "      <td>0</td>\n",
       "      <td>0</td>\n",
       "      <td>1</td>\n",
       "    </tr>\n",
       "    <tr>\n",
       "      <th>2</th>\n",
       "      <td>0</td>\n",
       "      <td>0</td>\n",
       "      <td>1</td>\n",
       "    </tr>\n",
       "  </tbody>\n",
       "</table>\n",
       "</div>"
      ],
      "text/plain": [
       "   grade_A  grade_B  grade_C\n",
       "0        0        1        0\n",
       "1        0        0        1\n",
       "2        0        0        1"
      ]
     },
     "execution_count": 105,
     "metadata": {},
     "output_type": "execute_result"
    }
   ],
   "source": [
    "df[['grade_A','grade_B','grade_C']].head(3)"
   ]
  },
  {
   "cell_type": "markdown",
   "metadata": {},
   "source": [
    "#### 3. Separating the \"X\" and \"y\" "
   ]
  },
  {
   "cell_type": "code",
   "execution_count": 106,
   "metadata": {
    "scrolled": true
   },
   "outputs": [
    {
     "data": {
      "text/plain": [
       "(252971, 24)"
      ]
     },
     "execution_count": 106,
     "metadata": {},
     "output_type": "execute_result"
    }
   ],
   "source": [
    "X = df.iloc[:, df.columns != \"loan_status\"]\n",
    "y = df[\"loan_status\"]\n",
    "X_dup = X.copy()\n",
    "df.shape"
   ]
  },
  {
   "cell_type": "markdown",
   "metadata": {},
   "source": [
    "#### 4.Splitting the data using scikitlearn's train_test_split and using 70% data for training and 30% for testing"
   ]
  },
  {
   "cell_type": "code",
   "execution_count": 107,
   "metadata": {
    "scrolled": true
   },
   "outputs": [
    {
     "data": {
      "text/plain": [
       "0    145406\n",
       "1     31673\n",
       "Name: loan_status, dtype: int64"
      ]
     },
     "execution_count": 107,
     "metadata": {},
     "output_type": "execute_result"
    }
   ],
   "source": [
    "\n",
    "X_train, X_test, Y_train, Y_test = train_test_split(X, y, test_size=0.30, random_state=123, stratify=y)\n",
    "Y_train.value_counts()\n"
   ]
  },
  {
   "cell_type": "code",
   "execution_count": 108,
   "metadata": {},
   "outputs": [
    {
     "data": {
      "text/plain": [
       "(252971, 23)"
      ]
     },
     "execution_count": 108,
     "metadata": {},
     "output_type": "execute_result"
    }
   ],
   "source": [
    "X.shape"
   ]
  },
  {
   "cell_type": "markdown",
   "metadata": {},
   "source": [
    "Verifying the data is split"
   ]
  },
  {
   "cell_type": "code",
   "execution_count": 109,
   "metadata": {},
   "outputs": [
    {
     "name": "stdout",
     "output_type": "stream",
     "text": [
      "X_train is (177079, 23) ,X_test is (75892, 23) ,Y_train is (177079,) ,Y_test is (75892,) \n"
     ]
    }
   ],
   "source": [
    "print(\"X_train is {} ,X_test is {} ,Y_train is {} ,Y_test is {} \".format(X_train.shape,X_test.shape,Y_train.shape,Y_test.shape))"
   ]
  },
  {
   "cell_type": "markdown",
   "metadata": {},
   "source": [
    "#### 5. Using SMOTE Technique to remove problem of imbalance data\n",
    "SMOTE technique generates synthetic data for the minority sample and makes it equal to the majority sample. \n",
    "\n",
    "Now you see. the value of 0's and 1's is the same"
   ]
  },
  {
   "cell_type": "code",
   "execution_count": 110,
   "metadata": {},
   "outputs": [
    {
     "data": {
      "text/plain": [
       "array([145406, 145406], dtype=int64)"
      ]
     },
     "execution_count": 110,
     "metadata": {},
     "output_type": "execute_result"
    }
   ],
   "source": [
    "from imblearn.under_sampling import RandomUnderSampler\n",
    "from imblearn.over_sampling import SMOTE\n",
    "sm = SMOTE(random_state=0)\n",
    "\n",
    "X_train_res, Y_train_res = sm.fit_resample(X_train, Y_train)\n",
    "np.bincount(Y_train_res)"
   ]
  },
  {
   "cell_type": "markdown",
   "metadata": {},
   "source": [
    "#### 6.Defining the confusion matrix\n",
    "Confusion matrix is a good metric to see the four parameters:\n",
    "1. True Positive\n",
    "2. False Positive\n",
    "3. True Negative\n",
    "4. False Negative"
   ]
  },
  {
   "cell_type": "code",
   "execution_count": 111,
   "metadata": {},
   "outputs": [],
   "source": [
    "def CMatrix(cm):\n",
    "    fig, axes = plt.subplots(figsize=(8,6))\n",
    "    cm = cm.astype('float')/cm.sum(axis=0)\n",
    "    ax = sns.heatmap(cm, annot=True, cmap='Blues');\n",
    "    ax.set_xlabel('True Label')\n",
    "    ax.set_ylabel('Predicted Label')\n",
    "    ax.axis('equal')"
   ]
  },
  {
   "cell_type": "markdown",
   "metadata": {},
   "source": [
    "### 7. Building Models"
   ]
  },
  {
   "cell_type": "markdown",
   "metadata": {},
   "source": [
    "#### A. Logistic Regression"
   ]
  },
  {
   "cell_type": "code",
   "execution_count": 112,
   "metadata": {},
   "outputs": [
    {
     "name": "stdout",
     "output_type": "stream",
     "text": [
      "Accuracy: 0.988154219153534\n"
     ]
    },
    {
     "data": {
      "image/png": "[encoded data removed]",
      "text/plain": [
       "<Figure size 576x432 with 2 Axes>"
      ]
     },
     "metadata": {},
     "output_type": "display_data"
    }
   ],
   "source": [
    "\n",
    "logistic_regression = LogisticRegression(C=1, solver = 'liblinear')\n",
    "logistic_regression.fit(X_train_res, Y_train_res)\n",
    "Y_pred_test = logistic_regression.predict(X_test)\n",
    "CM = confusion_matrix(y_pred=Y_pred_test, y_true=Y_test)\n",
    "CMatrix(CM)\n",
    "\n",
    "print(\"Accuracy:\",metrics.accuracy_score(Y_test, y_pred=Y_pred_test))"
   ]
  },
  {
   "cell_type": "markdown",
   "metadata": {},
   "source": [
    "#### B. Decision Trees"
   ]
  },
  {
   "cell_type": "code",
   "execution_count": 113,
   "metadata": {},
   "outputs": [
    {
     "name": "stdout",
     "output_type": "stream",
     "text": [
      "Accuracy: 0.9923180308859959\n"
     ]
    },
    {
     "data": {
      "image/png": "[encoded data removed]",
      "text/plain": [
       "<Figure size 576x432 with 2 Axes>"
      ]
     },
     "metadata": {},
     "output_type": "display_data"
    }
   ],
   "source": [
    "from sklearn.tree import DecisionTreeClassifier\n",
    "class_tree = DecisionTreeClassifier(min_samples_split=30, min_samples_leaf=10, random_state=10)\n",
    "class_tree.fit(X_train_res, Y_train_res)\n",
    "Y_pred_test = class_tree.predict(X_test)\n",
    "CM = confusion_matrix(y_pred=Y_pred_test, y_true=Y_test)\n",
    "CMatrix(CM)\n",
    "print(\"Accuracy:\",metrics.accuracy_score(Y_test, y_pred=Y_pred_test))"
   ]
  },
  {
   "cell_type": "markdown",
   "metadata": {},
   "source": [
    "#### C. Naive Bayes Classifier"
   ]
  },
  {
   "cell_type": "code",
   "execution_count": 114,
   "metadata": {},
   "outputs": [
    {
     "name": "stdout",
     "output_type": "stream",
     "text": [
      "Accuracy: 0.9147736256785959\n"
     ]
    },
    {
     "data": {
      "image/png": "[encoded data removed]",
      "text/plain": [
       "<Figure size 576x432 with 2 Axes>"
      ]
     },
     "metadata": {},
     "output_type": "display_data"
    }
   ],
   "source": [
    "from sklearn.naive_bayes import GaussianNB\n",
    "NBC = GaussianNB()\n",
    "NBC.fit(X_train_res, Y_train_res)\n",
    "Y_pred_test = NBC.predict(X_test)\n",
    "CM = confusion_matrix(y_pred=Y_pred_test, y_true=Y_test)\n",
    "CMatrix(CM)\n",
    "print(\"Accuracy:\",metrics.accuracy_score(Y_test, y_pred=Y_pred_test))"
   ]
  },
  {
   "cell_type": "markdown",
   "metadata": {},
   "source": [
    "#### D. RandomForestClassifier"
   ]
  },
  {
   "cell_type": "code",
   "execution_count": 115,
   "metadata": {},
   "outputs": [
    {
     "data": {
      "text/plain": [
       "Index(['loan_amnt', 'int_rate', 'emp_length', 'annual_inc', 'total_acc',\n",
       "       'inq_last_6mths', 'revol_bal', 'total_pymnt', 'total_rec_late_fee',\n",
       "       'recoveries', 'grade_A', 'grade_B', 'grade_C', 'grade_D', 'grade_E',\n",
       "       'grade_F', 'grade_G', 'ownership_ANY', 'ownership_MORTGAGE',\n",
       "       'ownership_NONE', 'ownership_OTHER', 'ownership_OWN', 'ownership_RENT'],\n",
       "      dtype='object')"
      ]
     },
     "execution_count": 115,
     "metadata": {},
     "output_type": "execute_result"
    }
   ],
   "source": [
    "X_dup.columns"
   ]
  },
  {
   "cell_type": "code",
   "execution_count": 116,
   "metadata": {},
   "outputs": [
    {
     "name": "stdout",
     "output_type": "stream",
     "text": [
      "Accuracy: 0.9884572813998841\n"
     ]
    },
    {
     "data": {
      "image/png": "[encoded data removed]",
      "text/plain": [
       "<Figure size 576x432 with 2 Axes>"
      ]
     },
     "metadata": {},
     "output_type": "display_data"
    }
   ],
   "source": [
    "from sklearn.ensemble import RandomForestClassifier\n",
    "\n",
    "#Create a Gaussian Classifier\n",
    "clf=RandomForestClassifier(n_estimators=100)\n",
    "\n",
    "#Train the model using the training sets y_pred=clf.predict(X_test)\n",
    "clf.fit(X_train_res, Y_train_res)\n",
    "Y_pred_test = clf.predict(X_test)\n",
    "RandomForestClassifier(bootstrap=True, class_weight=None, criterion='gini',\n",
    "            max_depth=None, max_features='auto', max_leaf_nodes=None,\n",
    "            min_impurity_decrease=0.0, min_impurity_split=None,\n",
    "            min_samples_leaf=1, min_samples_split=2,\n",
    "            min_weight_fraction_leaf=0.0, n_estimators=100, n_jobs=1,\n",
    "            oob_score=False, random_state=None, verbose=0,\n",
    "            warm_start=False)\n",
    "#clf.feature_importances_\n",
    "list(df.columns)\n",
    "feature_imp = pd.Series(clf.feature_importances_,index=X_dup.columns).sort_values(ascending=False)\n",
    "feature_imp\n",
    "CM = confusion_matrix(y_pred=Y_pred_test, y_true=Y_test)\n",
    "CMatrix(CM)\n",
    "print(\"Accuracy:\",metrics.accuracy_score(Y_test, y_pred=Y_pred_test))"
   ]
  },
  {
   "cell_type": "code",
   "execution_count": 117,
   "metadata": {},
   "outputs": [
    {
     "name": "stdout",
     "output_type": "stream",
     "text": [
      "['loan_amnt' 'int_rate' 'emp_length' 'annual_inc' 'total_acc'\n",
      " 'inq_last_6mths' 'revol_bal' 'total_pymnt' 'total_rec_late_fee'\n",
      " 'recoveries' 'grade_A' 'grade_B' 'grade_C' 'grade_D' 'grade_E' 'grade_F'\n",
      " 'grade_G' 'ownership_ANY' 'ownership_MORTGAGE' 'ownership_NONE'\n",
      " 'ownership_OTHER' 'ownership_OWN' 'ownership_RENT']\n"
     ]
    },
    {
     "data": {
      "text/plain": [
       "Text(0,0.5,'Normalized Gini Importance')"
      ]
     },
     "execution_count": 117,
     "metadata": {},
     "output_type": "execute_result"
    },
    {
     "data": {
      "text/plain": [
       "<Figure size 1080x720 with 0 Axes>"
      ]
     },
     "metadata": {},
     "output_type": "display_data"
    },
    {
     "data": {
      "image/png": "[encoded data removed]",
      "text/plain": [
       "<Figure size 432x288 with 1 Axes>"
      ]
     },
     "metadata": {},
     "output_type": "display_data"
    }
   ],
   "source": [
    "plt.figure(figsize = [15, 10])\n",
    "fig, ax = plt.subplots()\n",
    "width=0.5\n",
    "features=X_dup.columns\n",
    "print(X_dup.columns.values)\n",
    "ax.bar(features, clf.feature_importances_, width, color='r')\n",
    "ax.set_xticks(np.arange(len(clf.feature_importances_)))\n",
    "ax.set_xticklabels(X_dup.columns.values,rotation=90)\n",
    "plt.title('Feature Importance from DT')\n",
    "ax.set_ylabel('Normalized Gini Importance')"
   ]
  },
  {
   "cell_type": "code",
   "execution_count": 118,
   "metadata": {},
   "outputs": [
    {
     "name": "stdout",
     "output_type": "stream",
     "text": [
      "Accuracy: 0.9884572813998841\n"
     ]
    }
   ],
   "source": [
    "\n",
    "# prediction on test set\n",
    "y_pred=clf.predict(X_test)\n",
    "\n",
    "#Import scikit-learn metrics module for accuracy calculation\n",
    "from sklearn import metrics\n",
    "# Model Accuracy, how often is the classifier correct?\n",
    "print(\"Accuracy:\",metrics.accuracy_score(Y_test, y_pred))"
   ]
  },
  {
   "cell_type": "markdown",
   "metadata": {},
   "source": [
    "#### Computing cross-validated metrics"
   ]
  },
  {
   "cell_type": "code",
   "execution_count": 119,
   "metadata": {},
   "outputs": [
    {
     "name": "stdout",
     "output_type": "stream",
     "text": [
      "Reached here\n",
      "NB\n",
      "DT\n",
      "LR\n",
      "RF\n",
      "Exiting\n"
     ]
    }
   ],
   "source": [
    "models = {'NB': GaussianNB(),\n",
    "          'DT': DecisionTreeClassifier(min_samples_split=30, min_samples_leaf=10, random_state=10),\n",
    "          'LR': LogisticRegression(C=1, solver = 'liblinear'),\n",
    "          'RF': RandomForestClassifier(n_estimators=100)}\n",
    "unbalset = {}\n",
    "print(\"Reached here\")\n",
    "for i in models.keys():\n",
    "    print(i)\n",
    "    scores = cross_val_score(models[i], X_train_res,\n",
    "                                    Y_train_res, cv=3)\n",
    "    unbalset[i] = scores\n",
    "print(\"Exiting\")"
   ]
  },
  {
   "cell_type": "code",
   "execution_count": 120,
   "metadata": {},
   "outputs": [
    {
     "name": "stdout",
     "output_type": "stream",
     "text": [
      "{'NB': array([0.7989746 , 0.8397223 , 0.83972931]), 'DT': array([0.98211228, 0.99568797, 0.99565693]), 'LR': array([0.98055458, 0.98835338, 0.98795081]), 'RF': array([0.94645031, 0.99849388, 0.99873112])}\n"
     ]
    }
   ],
   "source": [
    "print(unbalset)"
   ]
  },
  {
   "cell_type": "markdown",
   "metadata": {},
   "source": [
    "#### Computing the ROC curves for the models and finding the true positive and false positive"
   ]
  },
  {
   "cell_type": "code",
   "execution_count": 121,
   "metadata": {},
   "outputs": [],
   "source": [
    "def createROC(models, X, y, Xte, yte):\n",
    "    false_p, true_p = [], [] ##false postives and true positives\n",
    "\n",
    "    for i in models.keys():  ##dict of models\n",
    "        models[i].fit(X, y)\n",
    "        fp, tp, threshold = roc_curve(yte, models[i].predict_proba(Xte)[:,1]) ##roc_curve function\n",
    "        #print(\"FP is:{} and TP is :{}\".format(fp,tp))\n",
    "        true_p.append(tp)\n",
    "        false_p.append(fp)\n",
    "    return true_p, false_p##returning the true postive and false positive\n"
   ]
  },
  {
   "cell_type": "code",
   "execution_count": 122,
   "metadata": {},
   "outputs": [],
   "source": [
    "tp_unbalset, fp_unbalset = createROC(models, X_train_res , Y_train_res, X_test, Y_test)"
   ]
  },
  {
   "cell_type": "code",
   "execution_count": 123,
   "metadata": {},
   "outputs": [
    {
     "data": {
      "text/plain": [
       "(0, 1)"
      ]
     },
     "execution_count": 123,
     "metadata": {},
     "output_type": "execute_result"
    },
    {
     "data": {
      "image/png": "[encoded data removed]",
      "text/plain": [
       "<Figure size 1080x720 with 1 Axes>"
      ]
     },
     "metadata": {},
     "output_type": "display_data"
    }
   ],
   "source": [
    "plt.figure(figsize = [15, 10])\n",
    "for i in range(0, len(tp_unbalset)):\n",
    "      plt.plot(fp_unbalset[i], tp_unbalset[i], lw=1)\n",
    "\n",
    "plt.plot([0, 1], [0, 1], '--k', lw=1)\n",
    "plt.legend(models.keys())\n",
    "plt.ylabel('True Positive Rate')\n",
    "plt.xlabel('False Positive Rate')\n",
    "plt.xlim(0,1)\n",
    "plt.ylim(0,1)"
   ]
  }
 ],
 "metadata": {
  "kernelspec": {
   "display_name": "Python 3",
   "language": "python",
   "name": "python3"
  },
  "language_info": {
   "codemirror_mode": {
    "name": "ipython",
    "version": 3
   },
   "file_extension": ".py",
   "mimetype": "text/x-python",
   "name": "python",
   "nbconvert_exporter": "python",
   "pygments_lexer": "ipython3",
   "version": "3.6.5"
  }
 },
 "nbformat": 4,
 "nbformat_minor": 2
}
